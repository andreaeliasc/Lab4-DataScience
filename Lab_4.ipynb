{
  "nbformat": 4,
  "nbformat_minor": 5,
  "metadata": {
    "kernelspec": {
      "display_name": "Python 3 (ipykernel)",
      "language": "python",
      "name": "python3"
    },
    "language_info": {
      "codemirror_mode": {
        "name": "ipython",
        "version": 3
      },
      "file_extension": ".py",
      "mimetype": "text/x-python",
      "name": "python",
      "nbconvert_exporter": "python",
      "pygments_lexer": "ipython3",
      "version": "3.8.2"
    },
    "colab": {
      "name": "Lab_4.ipynb",
      "provenance": [],
      "collapsed_sections": []
    }
  },
  "cells": [
    {
      "cell_type": "code",
      "metadata": {
        "id": "6NO4EhL0O103",
        "colab": {
          "base_uri": "https://localhost:8080/"
        },
        "outputId": "0185514e-cdc3-4c4b-c5b2-d62ec2e2f047"
      },
      "source": [
        "from google.colab import drive\n",
        "drive.mount('/content/drive')"
      ],
      "id": "6NO4EhL0O103",
      "execution_count": 7,
      "outputs": [
        {
          "output_type": "stream",
          "text": [
            "Mounted at /content/drive\n"
          ],
          "name": "stdout"
        }
      ]
    },
    {
      "cell_type": "code",
      "metadata": {
        "colab": {
          "base_uri": "https://localhost:8080/"
        },
        "id": "R4bh45KlPKHw",
        "outputId": "b6f07764-7402-41c8-ae86-63a90575d33e"
      },
      "source": [
        "!ls \"/content/drive/MyDrive/datasets/NLP/\""
      ],
      "id": "R4bh45KlPKHw",
      "execution_count": 8,
      "outputs": [
        {
          "output_type": "stream",
          "text": [
            "en_US.blogs.txt  en_US.news.txt  en_US.twitter.txt\n"
          ],
          "name": "stdout"
        }
      ]
    },
    {
      "cell_type": "code",
      "metadata": {
        "colab": {
          "base_uri": "https://localhost:8080/"
        },
        "id": "70d909af",
        "outputId": "e191c90b-991a-44b9-bccc-22d1408348ca"
      },
      "source": [
        "import pandas as pd\n",
        "import numpy as np\n",
        "import os\n",
        "import re\n",
        "import nltk\n",
        "nltk.download('stopwords')\n",
        "from nltk.corpus import stopwords\n",
        "from nltk.util import ngrams\n",
        "from nltk import word_tokenize\n",
        "import matplotlib.pyplot as plt\n",
        "from wordcloud import WordCloud\n",
        "from nltk.corpus import reuters\n",
        "from collections import Counter, defaultdict"
      ],
      "id": "70d909af",
      "execution_count": 9,
      "outputs": [
        {
          "output_type": "stream",
          "text": [
            "[nltk_data] Downloading package stopwords to /root/nltk_data...\n",
            "[nltk_data]   Package stopwords is already up-to-date!\n"
          ],
          "name": "stdout"
        }
      ]
    },
    {
      "cell_type": "code",
      "metadata": {
        "id": "1wF9Y7HIRNxx"
      },
      "source": [
        "fileBlog = open('/content/drive/MyDrive/datasets/NLP/en_US.blogs.txt','r')\n",
        "fblog = fileBlog.readlines()\n",
        "blogs = [i.lower() for i in fblog] \n",
        "fileBlog.close()\n",
        "\n",
        "fileNews = open('/content/drive/MyDrive/datasets/NLP/en_US.news.txt','r')\n",
        "fnews = fileNews.readlines()\n",
        "news = [i.lower() for i in fnews]\n",
        "fileNews.close()\n",
        "\n",
        "fileTwitter = open('/content/drive/MyDrive/datasets/NLP/en_US.twitter.txt','r')\n",
        "ftwitter = fileTwitter.readlines()\n",
        "tweets = [i.lower() for i in ftwitter]\n",
        "fileTwitter.close()\n"
      ],
      "id": "1wF9Y7HIRNxx",
      "execution_count": 10,
      "outputs": []
    },
    {
      "cell_type": "code",
      "metadata": {
        "id": "94ecd37e"
      },
      "source": [
        "#Eliminar url\n",
        "blogs = [re.sub('\\w+:\\/{2}[\\d\\w-]+(\\.[\\d\\w-]+)*(?:(?:\\/[^\\s/]*))*','',i) for i in blogs]\n",
        "blogs = [re.sub(r'^https?:\\/\\/.*[\\r\\n]*', '', i) for i in blogs]\n",
        "\n",
        "news = [re.sub('\\w+:\\/{2}[\\d\\w-]+(\\.[\\d\\w-]+)*(?:(?:\\/[^\\s/]*))*','',i) for i in news]\n",
        "news = [re.sub(r'^https?:\\/\\/.*[\\r\\n]*', '', i) for i in news]\n",
        "\n",
        "tweets = [re.sub('\\w+:\\/{2}[\\d\\w-]+(\\.[\\d\\w-]+)*(?:(?:\\/[^\\s/]*))*','',i) for i in tweets]\n",
        "tweets = [re.sub(r'^https?:\\/\\/.*[\\r\\n]*', '', i) for i in tweets]\n",
        "\n",
        "### Se hace la eliminación de caracteres especiales, numeros y emojis\n",
        "tweets = [re.sub('[^a-zA-Z0-9 ]+','', i) for i in tweets]\n",
        "news = [re.sub('[^a-zA-Z0-9 ]+', '', i) for i in news]\n",
        "blogs = [re.sub('[^a-zA-Z0-9 ]+', '', i) for i in blogs]"
      ],
      "id": "94ecd37e",
      "execution_count": 11,
      "outputs": []
    },
    {
      "cell_type": "code",
      "metadata": {
        "id": "z9YrTgKRXYXP"
      },
      "source": [
        "#Quitar palabras tendencias\n",
        "stopwords = set(stopwords.words('english'))\n",
        "expresiones = ['im','rt','jk','btw','lol','yolo','lmao','lmfao','fb','like','get','em']\n",
        "for i in expresiones:\n",
        "    stopwords.add(i)\n",
        "\n",
        "clean_tweets = []\n",
        "for tweet in tweets:\n",
        "    word_list = []\n",
        "    for word in tweet.split():\n",
        "        if word not in stopwords:\n",
        "            word_list.append(word)\n",
        "    clean_tweets.append(' '.join(word_list))\n",
        "\n",
        "clean_blogs = []\n",
        "for blog in blogs:\n",
        "    word_listo = []\n",
        "    for word in blog.split():\n",
        "        if word not in stopwords:\n",
        "            word_listo.append(word)\n",
        "    clean_blogs.append(' '.join(word_listo))\n",
        "\n",
        "clean_news = []\n",
        "for new in news:\n",
        "    list_words = []\n",
        "    for word in new.split():\n",
        "        if word not in stopwords:\n",
        "            list_words.append(word)\n",
        "    clean_news.append(' '.join(list_words))"
      ],
      "id": "z9YrTgKRXYXP",
      "execution_count": 12,
      "outputs": []
    },
    {
      "cell_type": "markdown",
      "metadata": {
        "id": "N5wmvgRoVprR"
      },
      "source": [
        "# Análisis Exploratorio"
      ],
      "id": "N5wmvgRoVprR"
    },
    {
      "cell_type": "markdown",
      "metadata": {
        "id": "polished-maine"
      },
      "source": [
        "### Frecuencia en tweets"
      ],
      "id": "polished-maine"
    },
    {
      "cell_type": "code",
      "metadata": {
        "colab": {
          "base_uri": "https://localhost:8080/",
          "height": 423
        },
        "id": "concerned-debate",
        "outputId": "edcd8929-9aa9-4dd9-dc80-47b2d24e6d12"
      },
      "source": [
        "frec_dic_tweets = {}\n",
        "for word in clean_tweets:\n",
        "    if word in frec_dic_tweets:\n",
        "        frec_dic_tweets[word] += 1\n",
        "    else:\n",
        "        frec_dic_tweets[word] = 1\n",
        "\n",
        "tweets_frecuency = pd.DataFrame.from_dict(frec_dic_tweets, orient='index')\n",
        "tweets_frecuency"
      ],
      "id": "concerned-debate",
      "execution_count": 13,
      "outputs": [
        {
          "output_type": "execute_result",
          "data": {
            "text/html": [
              "<div>\n",
              "<style scoped>\n",
              "    .dataframe tbody tr th:only-of-type {\n",
              "        vertical-align: middle;\n",
              "    }\n",
              "\n",
              "    .dataframe tbody tr th {\n",
              "        vertical-align: top;\n",
              "    }\n",
              "\n",
              "    .dataframe thead th {\n",
              "        text-align: right;\n",
              "    }\n",
              "</style>\n",
              "<table border=\"1\" class=\"dataframe\">\n",
              "  <thead>\n",
              "    <tr style=\"text-align: right;\">\n",
              "      <th></th>\n",
              "      <th>0</th>\n",
              "    </tr>\n",
              "  </thead>\n",
              "  <tbody>\n",
              "    <tr>\n",
              "      <th>thanks gonna dc anytime soon love see way way long</th>\n",
              "      <td>1</td>\n",
              "    </tr>\n",
              "    <tr>\n",
              "      <th>meet someone special youll know heart beat rapidly youll smile reason</th>\n",
              "      <td>1</td>\n",
              "    </tr>\n",
              "    <tr>\n",
              "      <th>theyve decided fun dont</th>\n",
              "      <td>1</td>\n",
              "    </tr>\n",
              "    <tr>\n",
              "      <th>tired played lazer tag ran lot ughh going sleep 5 minutes</th>\n",
              "      <td>1</td>\n",
              "    </tr>\n",
              "    <tr>\n",
              "      <th>words complete stranger made birthday even better</th>\n",
              "      <td>1</td>\n",
              "    </tr>\n",
              "    <tr>\n",
              "      <th>...</th>\n",
              "      <td>...</td>\n",
              "    </tr>\n",
              "    <tr>\n",
              "      <th>u didnt give</th>\n",
              "      <td>1</td>\n",
              "    </tr>\n",
              "    <tr>\n",
              "      <th>whats good see success got poppin yo area</th>\n",
              "      <td>1</td>\n",
              "    </tr>\n",
              "    <tr>\n",
              "      <th>consumers visual want data finger tips mobile way deliver 247</th>\n",
              "      <td>1</td>\n",
              "    </tr>\n",
              "    <tr>\n",
              "      <th>rhonj time</th>\n",
              "      <td>1</td>\n",
              "    </tr>\n",
              "    <tr>\n",
              "      <th>key keeping woman happy attention affection treat queen sex pornstar</th>\n",
              "      <td>1</td>\n",
              "    </tr>\n",
              "  </tbody>\n",
              "</table>\n",
              "<p>2167597 rows × 1 columns</p>\n",
              "</div>"
            ],
            "text/plain": [
              "                                                    0\n",
              "thanks gonna dc anytime soon love see way way long  1\n",
              "meet someone special youll know heart beat rapi...  1\n",
              "theyve decided fun dont                             1\n",
              "tired played lazer tag ran lot ughh going sleep...  1\n",
              "words complete stranger made birthday even better   1\n",
              "...                                                ..\n",
              "u didnt give                                        1\n",
              "whats good see success got poppin yo area           1\n",
              "consumers visual want data finger tips mobile w...  1\n",
              "rhonj time                                          1\n",
              "key keeping woman happy attention affection tre...  1\n",
              "\n",
              "[2167597 rows x 1 columns]"
            ]
          },
          "metadata": {},
          "execution_count": 13
        }
      ]
    },
    {
      "cell_type": "markdown",
      "metadata": {
        "id": "immune-batman"
      },
      "source": [
        "### Frecuencia en noticias"
      ],
      "id": "immune-batman"
    },
    {
      "cell_type": "code",
      "metadata": {
        "colab": {
          "base_uri": "https://localhost:8080/",
          "height": 510
        },
        "id": "reserved-antarctica",
        "outputId": "4136294b-6a3e-49ad-80dd-00cc25e93dd2"
      },
      "source": [
        "frec_dic_news = {}\n",
        "for word in clean_news:\n",
        "    if word in frec_dic_news:\n",
        "        frec_dic_news[word] += 1\n",
        "    else:\n",
        "        frec_dic_news[word] = 1\n",
        "\n",
        "news_frecuency = pd.DataFrame.from_dict(frec_dic_news, orient='index')\n",
        "news_frecuency"
      ],
      "id": "reserved-antarctica",
      "execution_count": 14,
      "outputs": [
        {
          "output_type": "execute_result",
          "data": {
            "text/html": [
              "<div>\n",
              "<style scoped>\n",
              "    .dataframe tbody tr th:only-of-type {\n",
              "        vertical-align: middle;\n",
              "    }\n",
              "\n",
              "    .dataframe tbody tr th {\n",
              "        vertical-align: top;\n",
              "    }\n",
              "\n",
              "    .dataframe thead th {\n",
              "        text-align: right;\n",
              "    }\n",
              "</style>\n",
              "<table border=\"1\" class=\"dataframe\">\n",
              "  <thead>\n",
              "    <tr style=\"text-align: right;\">\n",
              "      <th></th>\n",
              "      <th>0</th>\n",
              "    </tr>\n",
              "  </thead>\n",
              "  <tbody>\n",
              "    <tr>\n",
              "      <th>wasnt home alone apparently</th>\n",
              "      <td>1</td>\n",
              "    </tr>\n",
              "    <tr>\n",
              "      <th>st louis plant close would die old age workers making cars since onset mass automotive production 1920s</th>\n",
              "      <td>1</td>\n",
              "    </tr>\n",
              "    <tr>\n",
              "      <th>wsus plans quickly became hot topic local online sites though people applauded plans new biomedical center many deplored potential loss building</th>\n",
              "      <td>1</td>\n",
              "    </tr>\n",
              "    <tr>\n",
              "      <th>alaimo group mount holly contract last fall evaluate suggest improvements trenton water works campaign finance records released week show two employees donated total 4500 political action committee pac partners progress early june partners progress reported gave 10000 direct inkind contributions mayor tony mack two weeks leading victory mayoral runoff election june 15</th>\n",
              "      <td>1</td>\n",
              "    </tr>\n",
              "    <tr>\n",
              "      <th>often difficult predict laws impact legislators think twice carrying bill absolutely necessary issue serious enough merit attention definitely make situation worse</th>\n",
              "      <td>1</td>\n",
              "    </tr>\n",
              "    <tr>\n",
              "      <th>...</th>\n",
              "      <td>...</td>\n",
              "    </tr>\n",
              "    <tr>\n",
              "      <th>serve taste spring chop fresh vegetables olives cheeses grilled chicken set selection salad dressings let guests assemble chopped salads numbered jars hold dressings style 5 anthropologie see anthropologiecom stores</th>\n",
              "      <td>1</td>\n",
              "    </tr>\n",
              "    <tr>\n",
              "      <th>complaint alleges kuvan adil piromari 42 us driving school el cajon served gobetween applicants state employees one answered phone office</th>\n",
              "      <td>1</td>\n",
              "    </tr>\n",
              "    <tr>\n",
              "      <th>mood six months chill ice crystals northeast ohio ground soft fragrant seemingly overnight things growing tropics producing fruit earth sweet corn mightily fragrant herbs deep green tender broccoli</th>\n",
              "      <td>1</td>\n",
              "    </tr>\n",
              "    <tr>\n",
              "      <th>starts sunday chivas goats arent great team beat one 10 win salt lake rio tinto also one player rival roger espinoza best guy mls one talks doesnt play new york la pacific northwest goalkeeper dan kennedy tough points</th>\n",
              "      <td>1</td>\n",
              "    </tr>\n",
              "    <tr>\n",
              "      <th>outwardly religious adornment billboardsized banner image lady charity patron saint cuba hanging side national library</th>\n",
              "      <td>1</td>\n",
              "    </tr>\n",
              "  </tbody>\n",
              "</table>\n",
              "<p>1002429 rows × 1 columns</p>\n",
              "</div>"
            ],
            "text/plain": [
              "                                                    0\n",
              "wasnt home alone apparently                         1\n",
              "st louis plant close would die old age workers ...  1\n",
              "wsus plans quickly became hot topic local onlin...  1\n",
              "alaimo group mount holly contract last fall eva...  1\n",
              "often difficult predict laws impact legislators...  1\n",
              "...                                                ..\n",
              "serve taste spring chop fresh vegetables olives...  1\n",
              "complaint alleges kuvan adil piromari 42 us dri...  1\n",
              "mood six months chill ice crystals northeast oh...  1\n",
              "starts sunday chivas goats arent great team bea...  1\n",
              "outwardly religious adornment billboardsized ba...  1\n",
              "\n",
              "[1002429 rows x 1 columns]"
            ]
          },
          "metadata": {},
          "execution_count": 14
        }
      ]
    },
    {
      "cell_type": "markdown",
      "metadata": {
        "id": "broke-feelings"
      },
      "source": [
        "### Frecuencia en blogs"
      ],
      "id": "broke-feelings"
    },
    {
      "cell_type": "code",
      "metadata": {
        "id": "hawaiian-wales",
        "colab": {
          "base_uri": "https://localhost:8080/",
          "height": 597
        },
        "outputId": "c656560d-40c3-4219-b122-e6ca9a9136ae"
      },
      "source": [
        "frec_dic_blogs = {}\n",
        "for word in blogs:\n",
        "    if word in frec_dic_blogs:\n",
        "        frec_dic_blogs[word] += 1\n",
        "    else:\n",
        "        frec_dic_blogs[word] = 1\n",
        "\n",
        "blogs_frecuency = pd.DataFrame.from_dict(frec_dic_blogs, orient='index')\n",
        "blogs_frecuency"
      ],
      "id": "hawaiian-wales",
      "execution_count": 15,
      "outputs": [
        {
          "output_type": "execute_result",
          "data": {
            "text/html": [
              "<div>\n",
              "<style scoped>\n",
              "    .dataframe tbody tr th:only-of-type {\n",
              "        vertical-align: middle;\n",
              "    }\n",
              "\n",
              "    .dataframe tbody tr th {\n",
              "        vertical-align: top;\n",
              "    }\n",
              "\n",
              "    .dataframe thead th {\n",
              "        text-align: right;\n",
              "    }\n",
              "</style>\n",
              "<table border=\"1\" class=\"dataframe\">\n",
              "  <thead>\n",
              "    <tr style=\"text-align: right;\">\n",
              "      <th></th>\n",
              "      <th>0</th>\n",
              "    </tr>\n",
              "  </thead>\n",
              "  <tbody>\n",
              "    <tr>\n",
              "      <th>in the years thereafter most of the oil fields and platforms were named after pagan gods</th>\n",
              "      <td>1</td>\n",
              "    </tr>\n",
              "    <tr>\n",
              "      <th>we love you mr brown</th>\n",
              "      <td>1</td>\n",
              "    </tr>\n",
              "    <tr>\n",
              "      <th>chad has been awesome with the kids and holding down the fort while i work later than usual the kids have been busy together playing skylander on the xbox together after kyan cashed in his  from his piggy bank he wanted that game so bad and used his gift card from his birthday he has been saving and the money to get it he never taps into that thing either that is how we know he wanted it so bad we made him count all of his money to make sure that he had enough it was very cute to watch his reaction when he realized he did he also does a very good job of letting lola feel like she is playing too by letting her switch out the characters she loves it almost as much as him</th>\n",
              "      <td>1</td>\n",
              "    </tr>\n",
              "    <tr>\n",
              "      <th>so anyways i am going to share some home decor inspiration that i have been storing in my folder on the puter i have all these amazing images stored away ready to come to life when we get our home</th>\n",
              "      <td>1</td>\n",
              "    </tr>\n",
              "    <tr>\n",
              "      <th>with graduation season right around the corner nancy has whipped up a fun set to help you out with not only your graduation cards and gifts but any occasion that brings on a change in ones life i stamped the images in memento tuxedo black and cut them out with circle nestabilities i embossed the kraft and red cardstock with tes new stars impressions plate which is double sided and gives you 2 fantastic patterns you can see how to use the impressions plates in this tutorial taylor created just one pass through your die cut machine using the embossing pad kit is all you need to do  super easy</th>\n",
              "      <td>1</td>\n",
              "    </tr>\n",
              "    <tr>\n",
              "      <th>...</th>\n",
              "      <td>...</td>\n",
              "    </tr>\n",
              "    <tr>\n",
              "      <th>the hulking mass of unfinished brick and concrete at 2013 35th st is so unsightly it became a poster child for zoning reform</th>\n",
              "      <td>1</td>\n",
              "    </tr>\n",
              "    <tr>\n",
              "      <th>the 2004 iifa award ceremony witnessed a contingent of over 450 stars celebrities cricketers industrialists and government leaders over the festive weekend</th>\n",
              "      <td>1</td>\n",
              "    </tr>\n",
              "    <tr>\n",
              "      <th>plus i have also been allowing myself not to get stressed over things that have not been done if the ironing is not done right now its not the end of the world if that phone call is made tomorrow rather than today then thats ok too living in the moment and allowing myself the time to get back to feeling great</th>\n",
              "      <td>1</td>\n",
              "    </tr>\n",
              "    <tr>\n",
              "      <th>5 whats the barrier to entry and why is the business sustainable</th>\n",
              "      <td>1</td>\n",
              "    </tr>\n",
              "    <tr>\n",
              "      <th>in response to an overwhelming number of comments we sat down and created a list of do s and dont s  these recommendations are easy to follow and except for  adding some herbs to your rinse  so lets get begin</th>\n",
              "      <td>1</td>\n",
              "    </tr>\n",
              "  </tbody>\n",
              "</table>\n",
              "<p>893471 rows × 1 columns</p>\n",
              "</div>"
            ],
            "text/plain": [
              "                                                    0\n",
              "in the years thereafter most of the oil fields ...  1\n",
              "we love you mr brown                                1\n",
              "chad has been awesome with the kids and holding...  1\n",
              "so anyways i am going to share some home decor ...  1\n",
              "with graduation season right around the corner ...  1\n",
              "...                                                ..\n",
              "the hulking mass of unfinished brick and concre...  1\n",
              "the 2004 iifa award ceremony witnessed a contin...  1\n",
              "plus i have also been allowing myself not to ge...  1\n",
              "5 whats the barrier to entry and why is the bus...  1\n",
              "in response to an overwhelming number of commen...  1\n",
              "\n",
              "[893471 rows x 1 columns]"
            ]
          },
          "metadata": {},
          "execution_count": 15
        }
      ]
    },
    {
      "cell_type": "markdown",
      "metadata": {
        "id": "3jPDtnPEeDQs"
      },
      "source": [
        "##Frecuencia de palabras"
      ],
      "id": "3jPDtnPEeDQs"
    },
    {
      "cell_type": "code",
      "metadata": {
        "id": "9i5abfIQeT35"
      },
      "source": [
        "news_count = Counter()\n",
        "\n",
        "for title in clean_news:\n",
        "    news_count.update(word.strip('.,?!\"\\'').lower() for word in title.split())"
      ],
      "id": "9i5abfIQeT35",
      "execution_count": 16,
      "outputs": []
    },
    {
      "cell_type": "code",
      "metadata": {
        "id": "SCWHeaT7enJF"
      },
      "source": [
        "blog_count = Counter()\n",
        "for blog in clean_blogs:\n",
        "    blog_count.update(word.strip('.,?!\"\\'').lower() for word in blog.split())"
      ],
      "id": "SCWHeaT7enJF",
      "execution_count": 17,
      "outputs": []
    },
    {
      "cell_type": "code",
      "metadata": {
        "id": "SpH-45CoabEQ"
      },
      "source": [
        "tweet_count = Counter()\n",
        "\n",
        "for tweet in clean_tweets:\n",
        "    tweet_count.update(word.strip('.,?!\"\\'').lower() for word in tweet.split())"
      ],
      "id": "SpH-45CoabEQ",
      "execution_count": 18,
      "outputs": []
    },
    {
      "cell_type": "markdown",
      "metadata": {
        "id": "2YSi8dIvezic"
      },
      "source": [
        "Palabras con mayor presencia"
      ],
      "id": "2YSi8dIvezic"
    },
    {
      "cell_type": "code",
      "metadata": {
        "colab": {
          "base_uri": "https://localhost:8080/"
        },
        "id": "-TKX4vY4eusn",
        "outputId": "d14a2a93-8067-486c-ce29-6d6dfdf8a7e4"
      },
      "source": [
        "tweet_count.most_common(10)"
      ],
      "id": "-TKX4vY4eusn",
      "execution_count": 19,
      "outputs": [
        {
          "output_type": "execute_result",
          "data": {
            "text/plain": [
              "[('love', 105459),\n",
              " ('good', 99641),\n",
              " ('dont', 90063),\n",
              " ('thanks', 88611),\n",
              " ('day', 88571),\n",
              " ('one', 81297),\n",
              " ('know', 79207),\n",
              " ('u', 75913),\n",
              " ('great', 75349),\n",
              " ('time', 74623)]"
            ]
          },
          "metadata": {},
          "execution_count": 19
        }
      ]
    },
    {
      "cell_type": "code",
      "metadata": {
        "colab": {
          "base_uri": "https://localhost:8080/"
        },
        "id": "BaVRcbn7e8AA",
        "outputId": "50f72b60-dc14-440f-80f5-01a7b3c4b26f"
      },
      "source": [
        "blog_count.most_common(10)"
      ],
      "id": "BaVRcbn7e8AA",
      "execution_count": 20,
      "outputs": [
        {
          "output_type": "execute_result",
          "data": {
            "text/plain": [
              "[('one', 124321),\n",
              " ('time', 88110),\n",
              " ('would', 81663),\n",
              " ('know', 59932),\n",
              " ('people', 59217),\n",
              " ('dont', 56252),\n",
              " ('also', 55255),\n",
              " ('new', 54335),\n",
              " ('us', 53583),\n",
              " ('even', 51743)]"
            ]
          },
          "metadata": {},
          "execution_count": 20
        }
      ]
    },
    {
      "cell_type": "code",
      "metadata": {
        "colab": {
          "base_uri": "https://localhost:8080/"
        },
        "id": "km8dVZQ1e-o4",
        "outputId": "a64c1704-7a5e-41fb-ae21-f8e7f4c6a470"
      },
      "source": [
        "news_count.most_common(10)"
      ],
      "id": "km8dVZQ1e-o4",
      "execution_count": 21,
      "outputs": [
        {
          "output_type": "execute_result",
          "data": {
            "text/plain": [
              "[('said', 250347),\n",
              " ('one', 83167),\n",
              " ('would', 71595),\n",
              " ('new', 70301),\n",
              " ('also', 58756),\n",
              " ('two', 57340),\n",
              " ('year', 54764),\n",
              " ('first', 52628),\n",
              " ('years', 51527),\n",
              " ('last', 51521)]"
            ]
          },
          "metadata": {},
          "execution_count": 21
        }
      ]
    },
    {
      "cell_type": "markdown",
      "metadata": {
        "id": "bXOzGGtIfFCN"
      },
      "source": [
        "##Nube de palabras"
      ],
      "id": "bXOzGGtIfFCN"
    },
    {
      "cell_type": "code",
      "metadata": {
        "colab": {
          "base_uri": "https://localhost:8080/",
          "height": 288
        },
        "id": "Vmvt2PrufHQ-",
        "outputId": "0cf3ae69-1ab0-447d-ade0-8ae6b33bdf3b"
      },
      "source": [
        "cloud_tweet = WordCloud(background_color=\"white\",width=1000,height=1000, max_words=10,relative_scaling=0.5,normalize_plurals=False).generate_from_frequencies(tweet_count)\n",
        "plt.imshow(cloud_tweet)"
      ],
      "id": "Vmvt2PrufHQ-",
      "execution_count": 22,
      "outputs": [
        {
          "output_type": "execute_result",
          "data": {
            "text/plain": [
              "<matplotlib.image.AxesImage at 0x7f96ad15d790>"
            ]
          },
          "metadata": {},
          "execution_count": 22
        },
        {
          "output_type": "display_data",
          "data": {
            "image/png": "[encoded data removed]",
            "text/plain": [
              "<Figure size 432x288 with 1 Axes>"
            ]
          },
          "metadata": {
            "needs_background": "light"
          }
        }
      ]
    },
    {
      "cell_type": "code",
      "metadata": {
        "colab": {
          "base_uri": "https://localhost:8080/",
          "height": 288
        },
        "id": "dmKXtoNEfSmn",
        "outputId": "97f7d417-d91c-407f-9300-c9a5217e1077"
      },
      "source": [
        "cloud_blog = WordCloud(background_color=\"white\",width=1000,height=1000, max_words=10,relative_scaling=0.5,normalize_plurals=False).generate_from_frequencies(blog_count)\n",
        "plt.imshow(cloud_blog)"
      ],
      "id": "dmKXtoNEfSmn",
      "execution_count": 23,
      "outputs": [
        {
          "output_type": "execute_result",
          "data": {
            "text/plain": [
              "<matplotlib.image.AxesImage at 0x7f962cc93e50>"
            ]
          },
          "metadata": {},
          "execution_count": 23
        },
        {
          "output_type": "display_data",
          "data": {
            "image/png": "[encoded data removed]",
            "text/plain": [
              "<Figure size 432x288 with 1 Axes>"
            ]
          },
          "metadata": {
            "needs_background": "light"
          }
        }
      ]
    },
    {
      "cell_type": "code",
      "metadata": {
        "colab": {
          "base_uri": "https://localhost:8080/",
          "height": 288
        },
        "id": "Xy7VhBbNfc2W",
        "outputId": "68de7123-6cda-4a6b-93e8-4ccb768cadb9"
      },
      "source": [
        "cloud_news = WordCloud(background_color=\"white\",width=1000,height=1000, max_words=10,relative_scaling=0.5,normalize_plurals=False).generate_from_frequencies(news_count)\n",
        "plt.imshow(cloud_news)"
      ],
      "id": "Xy7VhBbNfc2W",
      "execution_count": 24,
      "outputs": [
        {
          "output_type": "execute_result",
          "data": {
            "text/plain": [
              "<matplotlib.image.AxesImage at 0x7f962d3ca210>"
            ]
          },
          "metadata": {},
          "execution_count": 24
        },
        {
          "output_type": "display_data",
          "data": {
            "image/png": "[encoded data removed]",
            "text/plain": [
              "<Figure size 432x288 with 1 Axes>"
            ]
          },
          "metadata": {
            "needs_background": "light"
          }
        }
      ]
    },
    {
      "cell_type": "markdown",
      "metadata": {
        "id": "ORDG4elTfk2U"
      },
      "source": [
        "## Gráfica de barras de palabras"
      ],
      "id": "ORDG4elTfk2U"
    },
    {
      "cell_type": "code",
      "metadata": {
        "colab": {
          "base_uri": "https://localhost:8080/",
          "height": 336
        },
        "id": "UsHGFop4fkNq",
        "outputId": "04653f4d-175c-4d65-853e-c35bc54eac85"
      },
      "source": [
        "datos_tweet = tweet_count.most_common(10)\n",
        "fig = plt.figure()\n",
        "ax = fig.add_axes([0,0,1,1])\n",
        "x_axis = [i[0] for i in datos_tweet]\n",
        "y_axis = [i[1] for i in datos_tweet]\n",
        "ax.bar(x_axis,y_axis)\n",
        "plt.show()"
      ],
      "id": "UsHGFop4fkNq",
      "execution_count": 25,
      "outputs": [
        {
          "output_type": "display_data",
          "data": {
            "image/png": "[encoded data removed]",
            "text/plain": [
              "<Figure size 432x288 with 1 Axes>"
            ]
          },
          "metadata": {
            "needs_background": "light"
          }
        }
      ]
    },
    {
      "cell_type": "code",
      "metadata": {
        "colab": {
          "base_uri": "https://localhost:8080/",
          "height": 336
        },
        "id": "Z7jTuM2UhnX5",
        "outputId": "f986462d-2ef9-41dc-90e8-dc2d68dd939e"
      },
      "source": [
        "datos_blog = blog_count.most_common(10)\n",
        "fig = plt.figure()\n",
        "ax = fig.add_axes([0,0,1,1])\n",
        "x_axis = [i[0] for i in datos_blog]\n",
        "y_axis = [i[1] for i in datos_blog]\n",
        "ax.bar(x_axis,y_axis)\n",
        "plt.show()"
      ],
      "id": "Z7jTuM2UhnX5",
      "execution_count": 26,
      "outputs": [
        {
          "output_type": "display_data",
          "data": {
            "image/png": "[encoded data removed]",
            "text/plain": [
              "<Figure size 432x288 with 1 Axes>"
            ]
          },
          "metadata": {
            "needs_background": "light"
          }
        }
      ]
    },
    {
      "cell_type": "code",
      "metadata": {
        "colab": {
          "base_uri": "https://localhost:8080/",
          "height": 336
        },
        "id": "i2P2jSjUhuZM",
        "outputId": "40246fae-5f2f-462e-e72c-d1027319f37c"
      },
      "source": [
        "datos_news = news_count.most_common(10)\n",
        "fig = plt.figure()\n",
        "ax = fig.add_axes([0,0,1,1])\n",
        "x_axis = [i[0] for i in datos_news]\n",
        "y_axis = [i[1] for i in datos_news]\n",
        "ax.bar(x_axis,y_axis)\n",
        "plt.show()"
      ],
      "id": "i2P2jSjUhuZM",
      "execution_count": 27,
      "outputs": [
        {
          "output_type": "display_data",
          "data": {
            "image/png": "[encoded data removed]",
            "text/plain": [
              "<Figure size 432x288 with 1 Axes>"
            ]
          },
          "metadata": {
            "needs_background": "light"
          }
        }
      ]
    }
  ]
}