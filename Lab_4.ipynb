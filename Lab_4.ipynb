{
  "nbformat": 4,
  "nbformat_minor": 5,
  "metadata": {
    "kernelspec": {
      "display_name": "Python 3 (ipykernel)",
      "language": "python",
      "name": "python3"
    },
    "language_info": {
      "codemirror_mode": {
        "name": "ipython",
        "version": 3
      },
      "file_extension": ".py",
      "mimetype": "text/x-python",
      "name": "python",
      "nbconvert_exporter": "python",
      "pygments_lexer": "ipython3",
      "version": "3.8.2"
    },
    "colab": {
      "name": "Lab 4.ipynb",
      "provenance": [],
      "collapsed_sections": []
    }
  },
  "cells": [
    {
      "cell_type": "code",
      "metadata": {
        "id": "6NO4EhL0O103",
        "colab": {
          "base_uri": "https://localhost:8080/"
        },
        "outputId": "52f5e331-3970-4d73-d6fe-337f6e4af577"
      },
      "source": [
        "from google.colab import drive\n",
        "drive.mount('/content/drive')"
      ],
      "id": "6NO4EhL0O103",
      "execution_count": null,
      "outputs": [
        {
          "output_type": "stream",
          "text": [
            "Mounted at /content/drive\n"
          ],
          "name": "stdout"
        }
      ]
    },
    {
      "cell_type": "code",
      "metadata": {
        "colab": {
          "base_uri": "https://localhost:8080/"
        },
        "id": "R4bh45KlPKHw",
        "outputId": "4b7d3e34-5e9d-40a9-e0f2-6e929342d596"
      },
      "source": [
        "!ls \"/content/drive/MyDrive/datasets/NLP/\""
      ],
      "id": "R4bh45KlPKHw",
      "execution_count": null,
      "outputs": [
        {
          "output_type": "stream",
          "text": [
            "en_US.blogs.txt  en_US.news.txt  en_US.twitter.txt\n"
          ],
          "name": "stdout"
        }
      ]
    },
    {
      "cell_type": "code",
      "metadata": {
        "colab": {
          "base_uri": "https://localhost:8080/"
        },
        "id": "70d909af",
        "outputId": "8b57ee81-876f-4197-f884-5f08aad727ce"
      },
      "source": [
        "import pandas as pd\n",
        "import numpy as np\n",
        "import os\n",
        "import re\n",
        "import nltk\n",
        "nltk.download('stopwords')\n",
        "from nltk.corpus import stopwords\n",
        "from nltk.util import ngrams\n",
        "from nltk import word_tokenize\n",
        "import matplotlib.pyplot as plt\n",
        "from wordcloud import WordCloud\n",
        "from nltk.corpus import reuters\n",
        "from collections import Counter, defaultdict\n",
        "import random\n",
        "import warnings\n",
        "import copy"
      ],
      "id": "70d909af",
      "execution_count": null,
      "outputs": [
        {
          "output_type": "stream",
          "text": [
            "[nltk_data] Downloading package stopwords to /root/nltk_data...\n",
            "[nltk_data]   Unzipping corpora/stopwords.zip.\n"
          ],
          "name": "stdout"
        }
      ]
    },
    {
      "cell_type": "markdown",
      "metadata": {
        "id": "fd5ZAUfhrQI0"
      },
      "source": [
        "# Carga de datos y preprocesamiento"
      ],
      "id": "fd5ZAUfhrQI0"
    },
    {
      "cell_type": "code",
      "metadata": {
        "id": "1wF9Y7HIRNxx"
      },
      "source": [
        "fileBlog = open('/content/drive/MyDrive/datasets/NLP/en_US.blogs.txt','r')\n",
        "fblog = fileBlog.readlines()\n",
        "blogs = [i.lower() for i in fblog] \n",
        "fileBlog.close()\n",
        "\n",
        "fileNews = open('/content/drive/MyDrive/datasets/NLP/en_US.news.txt','r')\n",
        "fnews = fileNews.readlines()\n",
        "news = [i.lower() for i in fnews]\n",
        "fileNews.close()\n",
        "\n",
        "fileTwitter = open('/content/drive/MyDrive/datasets/NLP/en_US.twitter.txt','r')\n",
        "ftwitter = fileTwitter.readlines()\n",
        "tweets = [i.lower() for i in ftwitter]\n",
        "fileTwitter.close()\n"
      ],
      "id": "1wF9Y7HIRNxx",
      "execution_count": null,
      "outputs": []
    },
    {
      "cell_type": "code",
      "metadata": {
        "id": "94ecd37e"
      },
      "source": [
        "#Eliminar url\n",
        "blogs = [re.sub('\\w+:\\/{2}[\\d\\w-]+(\\.[\\d\\w-]+)*(?:(?:\\/[^\\s/]*))*','',i) for i in blogs]\n",
        "blogs = [re.sub(r'^https?:\\/\\/.*[\\r\\n]*', '', i) for i in blogs]\n",
        "\n",
        "news = [re.sub('\\w+:\\/{2}[\\d\\w-]+(\\.[\\d\\w-]+)*(?:(?:\\/[^\\s/]*))*','',i) for i in news]\n",
        "news = [re.sub(r'^https?:\\/\\/.*[\\r\\n]*', '', i) for i in news]\n",
        "\n",
        "tweets = [re.sub('\\w+:\\/{2}[\\d\\w-]+(\\.[\\d\\w-]+)*(?:(?:\\/[^\\s/]*))*','',i) for i in tweets]\n",
        "tweets = [re.sub(r'^https?:\\/\\/.*[\\r\\n]*', '', i) for i in tweets]\n",
        "\n",
        "### Se hace la eliminación de caracteres especiales, numeros y emojis\n",
        "tweets = [re.sub('[^a-zA-Z0-9 ]+','', i) for i in tweets]\n",
        "news = [re.sub('[^a-zA-Z0-9 ]+', '', i) for i in news]\n",
        "blogs = [re.sub('[^a-zA-Z0-9 ]+', '', i) for i in blogs]"
      ],
      "id": "94ecd37e",
      "execution_count": null,
      "outputs": []
    },
    {
      "cell_type": "code",
      "metadata": {
        "id": "z9YrTgKRXYXP"
      },
      "source": [
        "#Quitar palabras tendencias\n",
        "stopwords = set(stopwords.words('english'))\n",
        "expresiones = ['im','rt','jk','btw','lol','yolo','lmao','lmfao','fb','like','get','em']\n",
        "for i in expresiones:\n",
        "    stopwords.add(i)\n",
        "\n",
        "clean_tweets = []\n",
        "for tweet in tweets:\n",
        "    word_list = []\n",
        "    for word in tweet.split():\n",
        "        if word not in stopwords:\n",
        "            word_list.append(word)\n",
        "    clean_tweets.append(' '.join(word_list))\n",
        "\n",
        "clean_blogs = []\n",
        "for blog in blogs:\n",
        "    word_listo = []\n",
        "    for word in blog.split():\n",
        "        if word not in stopwords:\n",
        "            word_listo.append(word)\n",
        "    clean_blogs.append(' '.join(word_listo))\n",
        "\n",
        "clean_news = []\n",
        "for new in news:\n",
        "    list_words = []\n",
        "    for word in new.split():\n",
        "        if word not in stopwords:\n",
        "            list_words.append(word)\n",
        "    clean_news.append(' '.join(list_words))"
      ],
      "id": "z9YrTgKRXYXP",
      "execution_count": null,
      "outputs": []
    },
    {
      "cell_type": "markdown",
      "metadata": {
        "id": "N5wmvgRoVprR"
      },
      "source": [
        "# Análisis Exploratorio"
      ],
      "id": "N5wmvgRoVprR"
    },
    {
      "cell_type": "markdown",
      "metadata": {
        "id": "polished-maine"
      },
      "source": [
        "### Frecuencia en tweets"
      ],
      "id": "polished-maine"
    },
    {
      "cell_type": "code",
      "metadata": {
        "colab": {
          "base_uri": "https://localhost:8080/",
          "height": 419
        },
        "id": "concerned-debate",
        "outputId": "dced3ffc-43eb-4466-c636-a6667ab799b9"
      },
      "source": [
        "frec_dic_tweets = {}\n",
        "for word in clean_tweets:\n",
        "    if word in frec_dic_tweets:\n",
        "        frec_dic_tweets[word] += 1\n",
        "    else:\n",
        "        frec_dic_tweets[word] = 1\n",
        "\n",
        "tweets_frecuency = pd.DataFrame.from_dict(frec_dic_tweets, orient='index')\n",
        "tweets_frecuency"
      ],
      "id": "concerned-debate",
      "execution_count": null,
      "outputs": [
        {
          "output_type": "execute_result",
          "data": {
            "text/html": [
              "<div>\n",
              "<style scoped>\n",
              "    .dataframe tbody tr th:only-of-type {\n",
              "        vertical-align: middle;\n",
              "    }\n",
              "\n",
              "    .dataframe tbody tr th {\n",
              "        vertical-align: top;\n",
              "    }\n",
              "\n",
              "    .dataframe thead th {\n",
              "        text-align: right;\n",
              "    }\n",
              "</style>\n",
              "<table border=\"1\" class=\"dataframe\">\n",
              "  <thead>\n",
              "    <tr style=\"text-align: right;\">\n",
              "      <th></th>\n",
              "      <th>0</th>\n",
              "    </tr>\n",
              "  </thead>\n",
              "  <tbody>\n",
              "    <tr>\n",
              "      <th>thanks gonna dc anytime soon love see way way long</th>\n",
              "      <td>1</td>\n",
              "    </tr>\n",
              "    <tr>\n",
              "      <th>meet someone special youll know heart beat rapidly youll smile reason</th>\n",
              "      <td>1</td>\n",
              "    </tr>\n",
              "    <tr>\n",
              "      <th>theyve decided fun dont</th>\n",
              "      <td>1</td>\n",
              "    </tr>\n",
              "    <tr>\n",
              "      <th>tired played lazer tag ran lot ughh going sleep 5 minutes</th>\n",
              "      <td>1</td>\n",
              "    </tr>\n",
              "    <tr>\n",
              "      <th>words complete stranger made birthday even better</th>\n",
              "      <td>1</td>\n",
              "    </tr>\n",
              "    <tr>\n",
              "      <th>...</th>\n",
              "      <td>...</td>\n",
              "    </tr>\n",
              "    <tr>\n",
              "      <th>u didnt give</th>\n",
              "      <td>1</td>\n",
              "    </tr>\n",
              "    <tr>\n",
              "      <th>whats good see success got poppin yo area</th>\n",
              "      <td>1</td>\n",
              "    </tr>\n",
              "    <tr>\n",
              "      <th>consumers visual want data finger tips mobile way deliver 247</th>\n",
              "      <td>1</td>\n",
              "    </tr>\n",
              "    <tr>\n",
              "      <th>rhonj time</th>\n",
              "      <td>1</td>\n",
              "    </tr>\n",
              "    <tr>\n",
              "      <th>key keeping woman happy attention affection treat queen sex pornstar</th>\n",
              "      <td>1</td>\n",
              "    </tr>\n",
              "  </tbody>\n",
              "</table>\n",
              "<p>2167597 rows × 1 columns</p>\n",
              "</div>"
            ],
            "text/plain": [
              "                                                    0\n",
              "thanks gonna dc anytime soon love see way way long  1\n",
              "meet someone special youll know heart beat rapi...  1\n",
              "theyve decided fun dont                             1\n",
              "tired played lazer tag ran lot ughh going sleep...  1\n",
              "words complete stranger made birthday even better   1\n",
              "...                                                ..\n",
              "u didnt give                                        1\n",
              "whats good see success got poppin yo area           1\n",
              "consumers visual want data finger tips mobile w...  1\n",
              "rhonj time                                          1\n",
              "key keeping woman happy attention affection tre...  1\n",
              "\n",
              "[2167597 rows x 1 columns]"
            ]
          },
          "metadata": {},
          "execution_count": 10
        }
      ]
    },
    {
      "cell_type": "markdown",
      "metadata": {
        "id": "immune-batman"
      },
      "source": [
        "### Frecuencia en noticias"
      ],
      "id": "immune-batman"
    },
    {
      "cell_type": "code",
      "metadata": {
        "colab": {
          "base_uri": "https://localhost:8080/",
          "height": 504
        },
        "id": "reserved-antarctica",
        "outputId": "b7d5dcd3-9085-4f38-d6fd-73edc89de954"
      },
      "source": [
        "frec_dic_news = {}\n",
        "for word in clean_news:\n",
        "    if word in frec_dic_news:\n",
        "        frec_dic_news[word] += 1\n",
        "    else:\n",
        "        frec_dic_news[word] = 1\n",
        "\n",
        "news_frecuency = pd.DataFrame.from_dict(frec_dic_news, orient='index')\n",
        "news_frecuency"
      ],
      "id": "reserved-antarctica",
      "execution_count": null,
      "outputs": [
        {
          "output_type": "execute_result",
          "data": {
            "text/html": [
              "<div>\n",
              "<style scoped>\n",
              "    .dataframe tbody tr th:only-of-type {\n",
              "        vertical-align: middle;\n",
              "    }\n",
              "\n",
              "    .dataframe tbody tr th {\n",
              "        vertical-align: top;\n",
              "    }\n",
              "\n",
              "    .dataframe thead th {\n",
              "        text-align: right;\n",
              "    }\n",
              "</style>\n",
              "<table border=\"1\" class=\"dataframe\">\n",
              "  <thead>\n",
              "    <tr style=\"text-align: right;\">\n",
              "      <th></th>\n",
              "      <th>0</th>\n",
              "    </tr>\n",
              "  </thead>\n",
              "  <tbody>\n",
              "    <tr>\n",
              "      <th>wasnt home alone apparently</th>\n",
              "      <td>1</td>\n",
              "    </tr>\n",
              "    <tr>\n",
              "      <th>st louis plant close would die old age workers making cars since onset mass automotive production 1920s</th>\n",
              "      <td>1</td>\n",
              "    </tr>\n",
              "    <tr>\n",
              "      <th>wsus plans quickly became hot topic local online sites though people applauded plans new biomedical center many deplored potential loss building</th>\n",
              "      <td>1</td>\n",
              "    </tr>\n",
              "    <tr>\n",
              "      <th>alaimo group mount holly contract last fall evaluate suggest improvements trenton water works campaign finance records released week show two employees donated total 4500 political action committee pac partners progress early june partners progress reported gave 10000 direct inkind contributions mayor tony mack two weeks leading victory mayoral runoff election june 15</th>\n",
              "      <td>1</td>\n",
              "    </tr>\n",
              "    <tr>\n",
              "      <th>often difficult predict laws impact legislators think twice carrying bill absolutely necessary issue serious enough merit attention definitely make situation worse</th>\n",
              "      <td>1</td>\n",
              "    </tr>\n",
              "    <tr>\n",
              "      <th>...</th>\n",
              "      <td>...</td>\n",
              "    </tr>\n",
              "    <tr>\n",
              "      <th>serve taste spring chop fresh vegetables olives cheeses grilled chicken set selection salad dressings let guests assemble chopped salads numbered jars hold dressings style 5 anthropologie see anthropologiecom stores</th>\n",
              "      <td>1</td>\n",
              "    </tr>\n",
              "    <tr>\n",
              "      <th>complaint alleges kuvan adil piromari 42 us driving school el cajon served gobetween applicants state employees one answered phone office</th>\n",
              "      <td>1</td>\n",
              "    </tr>\n",
              "    <tr>\n",
              "      <th>mood six months chill ice crystals northeast ohio ground soft fragrant seemingly overnight things growing tropics producing fruit earth sweet corn mightily fragrant herbs deep green tender broccoli</th>\n",
              "      <td>1</td>\n",
              "    </tr>\n",
              "    <tr>\n",
              "      <th>starts sunday chivas goats arent great team beat one 10 win salt lake rio tinto also one player rival roger espinoza best guy mls one talks doesnt play new york la pacific northwest goalkeeper dan kennedy tough points</th>\n",
              "      <td>1</td>\n",
              "    </tr>\n",
              "    <tr>\n",
              "      <th>outwardly religious adornment billboardsized banner image lady charity patron saint cuba hanging side national library</th>\n",
              "      <td>1</td>\n",
              "    </tr>\n",
              "  </tbody>\n",
              "</table>\n",
              "<p>1002429 rows × 1 columns</p>\n",
              "</div>"
            ],
            "text/plain": [
              "                                                    0\n",
              "wasnt home alone apparently                         1\n",
              "st louis plant close would die old age workers ...  1\n",
              "wsus plans quickly became hot topic local onlin...  1\n",
              "alaimo group mount holly contract last fall eva...  1\n",
              "often difficult predict laws impact legislators...  1\n",
              "...                                                ..\n",
              "serve taste spring chop fresh vegetables olives...  1\n",
              "complaint alleges kuvan adil piromari 42 us dri...  1\n",
              "mood six months chill ice crystals northeast oh...  1\n",
              "starts sunday chivas goats arent great team bea...  1\n",
              "outwardly religious adornment billboardsized ba...  1\n",
              "\n",
              "[1002429 rows x 1 columns]"
            ]
          },
          "metadata": {},
          "execution_count": 11
        }
      ]
    },
    {
      "cell_type": "markdown",
      "metadata": {
        "id": "broke-feelings"
      },
      "source": [
        "### Frecuencia en blogs"
      ],
      "id": "broke-feelings"
    },
    {
      "cell_type": "code",
      "metadata": {
        "id": "hawaiian-wales",
        "colab": {
          "base_uri": "https://localhost:8080/",
          "height": 572
        },
        "outputId": "0e1f60ee-9358-4c94-9efc-ade7df872cc4"
      },
      "source": [
        "frec_dic_blogs = {}\n",
        "for word in blogs:\n",
        "    if word in frec_dic_blogs:\n",
        "        frec_dic_blogs[word] += 1\n",
        "    else:\n",
        "        frec_dic_blogs[word] = 1\n",
        "\n",
        "blogs_frecuency = pd.DataFrame.from_dict(frec_dic_blogs, orient='index')\n",
        "blogs_frecuency"
      ],
      "id": "hawaiian-wales",
      "execution_count": null,
      "outputs": [
        {
          "output_type": "execute_result",
          "data": {
            "text/html": [
              "<div>\n",
              "<style scoped>\n",
              "    .dataframe tbody tr th:only-of-type {\n",
              "        vertical-align: middle;\n",
              "    }\n",
              "\n",
              "    .dataframe tbody tr th {\n",
              "        vertical-align: top;\n",
              "    }\n",
              "\n",
              "    .dataframe thead th {\n",
              "        text-align: right;\n",
              "    }\n",
              "</style>\n",
              "<table border=\"1\" class=\"dataframe\">\n",
              "  <thead>\n",
              "    <tr style=\"text-align: right;\">\n",
              "      <th></th>\n",
              "      <th>0</th>\n",
              "    </tr>\n",
              "  </thead>\n",
              "  <tbody>\n",
              "    <tr>\n",
              "      <th>in the years thereafter most of the oil fields and platforms were named after pagan gods</th>\n",
              "      <td>1</td>\n",
              "    </tr>\n",
              "    <tr>\n",
              "      <th>we love you mr brown</th>\n",
              "      <td>1</td>\n",
              "    </tr>\n",
              "    <tr>\n",
              "      <th>chad has been awesome with the kids and holding down the fort while i work later than usual the kids have been busy together playing skylander on the xbox together after kyan cashed in his  from his piggy bank he wanted that game so bad and used his gift card from his birthday he has been saving and the money to get it he never taps into that thing either that is how we know he wanted it so bad we made him count all of his money to make sure that he had enough it was very cute to watch his reaction when he realized he did he also does a very good job of letting lola feel like she is playing too by letting her switch out the characters she loves it almost as much as him</th>\n",
              "      <td>1</td>\n",
              "    </tr>\n",
              "    <tr>\n",
              "      <th>so anyways i am going to share some home decor inspiration that i have been storing in my folder on the puter i have all these amazing images stored away ready to come to life when we get our home</th>\n",
              "      <td>1</td>\n",
              "    </tr>\n",
              "    <tr>\n",
              "      <th>with graduation season right around the corner nancy has whipped up a fun set to help you out with not only your graduation cards and gifts but any occasion that brings on a change in ones life i stamped the images in memento tuxedo black and cut them out with circle nestabilities i embossed the kraft and red cardstock with tes new stars impressions plate which is double sided and gives you 2 fantastic patterns you can see how to use the impressions plates in this tutorial taylor created just one pass through your die cut machine using the embossing pad kit is all you need to do  super easy</th>\n",
              "      <td>1</td>\n",
              "    </tr>\n",
              "    <tr>\n",
              "      <th>...</th>\n",
              "      <td>...</td>\n",
              "    </tr>\n",
              "    <tr>\n",
              "      <th>the hulking mass of unfinished brick and concrete at 2013 35th st is so unsightly it became a poster child for zoning reform</th>\n",
              "      <td>1</td>\n",
              "    </tr>\n",
              "    <tr>\n",
              "      <th>the 2004 iifa award ceremony witnessed a contingent of over 450 stars celebrities cricketers industrialists and government leaders over the festive weekend</th>\n",
              "      <td>1</td>\n",
              "    </tr>\n",
              "    <tr>\n",
              "      <th>plus i have also been allowing myself not to get stressed over things that have not been done if the ironing is not done right now its not the end of the world if that phone call is made tomorrow rather than today then thats ok too living in the moment and allowing myself the time to get back to feeling great</th>\n",
              "      <td>1</td>\n",
              "    </tr>\n",
              "    <tr>\n",
              "      <th>5 whats the barrier to entry and why is the business sustainable</th>\n",
              "      <td>1</td>\n",
              "    </tr>\n",
              "    <tr>\n",
              "      <th>in response to an overwhelming number of comments we sat down and created a list of do s and dont s  these recommendations are easy to follow and except for  adding some herbs to your rinse  so lets get begin</th>\n",
              "      <td>1</td>\n",
              "    </tr>\n",
              "  </tbody>\n",
              "</table>\n",
              "<p>893471 rows × 1 columns</p>\n",
              "</div>"
            ],
            "text/plain": [
              "                                                    0\n",
              "in the years thereafter most of the oil fields ...  1\n",
              "we love you mr brown                                1\n",
              "chad has been awesome with the kids and holding...  1\n",
              "so anyways i am going to share some home decor ...  1\n",
              "with graduation season right around the corner ...  1\n",
              "...                                                ..\n",
              "the hulking mass of unfinished brick and concre...  1\n",
              "the 2004 iifa award ceremony witnessed a contin...  1\n",
              "plus i have also been allowing myself not to ge...  1\n",
              "5 whats the barrier to entry and why is the bus...  1\n",
              "in response to an overwhelming number of commen...  1\n",
              "\n",
              "[893471 rows x 1 columns]"
            ]
          },
          "metadata": {},
          "execution_count": 12
        }
      ]
    },
    {
      "cell_type": "markdown",
      "metadata": {
        "id": "diAufeM0oxty"
      },
      "source": [
        "## Frecuencia en palabras"
      ],
      "id": "diAufeM0oxty"
    },
    {
      "cell_type": "code",
      "metadata": {
        "id": "SpH-45CoabEQ"
      },
      "source": [
        "news_count = Counter()\n",
        "\n",
        "for title in clean_news:\n",
        "    news_count.update(word.strip('.,?!\"\\'').lower() for word in title.split())"
      ],
      "id": "SpH-45CoabEQ",
      "execution_count": null,
      "outputs": []
    },
    {
      "cell_type": "code",
      "metadata": {
        "id": "_hNX0FCao12H"
      },
      "source": [
        "blog_count = Counter()\n",
        "for blog in clean_blogs:\n",
        "    blog_count.update(word.strip('.,?!\"\\'').lower() for word in blog.split())"
      ],
      "id": "_hNX0FCao12H",
      "execution_count": null,
      "outputs": []
    },
    {
      "cell_type": "code",
      "metadata": {
        "id": "gVQ1hhAHo43Q"
      },
      "source": [
        "tweet_count = Counter()\n",
        "\n",
        "for tweet in clean_tweets:\n",
        "    tweet_count.update(word.strip('.,?!\"\\'').lower() for word in tweet.split())"
      ],
      "id": "gVQ1hhAHo43Q",
      "execution_count": null,
      "outputs": []
    },
    {
      "cell_type": "markdown",
      "metadata": {
        "id": "t-Bw-lnWo-Pz"
      },
      "source": [
        "Palabras con mayor presencia"
      ],
      "id": "t-Bw-lnWo-Pz"
    },
    {
      "cell_type": "code",
      "metadata": {
        "colab": {
          "base_uri": "https://localhost:8080/"
        },
        "id": "2M-8Z5fvpAfF",
        "outputId": "1c934ba0-e08b-47ad-c8ac-1ad9b3807ba9"
      },
      "source": [
        "tweet_count.most_common(10)"
      ],
      "id": "2M-8Z5fvpAfF",
      "execution_count": null,
      "outputs": [
        {
          "output_type": "execute_result",
          "data": {
            "text/plain": [
              "[('love', 105459),\n",
              " ('good', 99641),\n",
              " ('dont', 90063),\n",
              " ('thanks', 88611),\n",
              " ('day', 88571),\n",
              " ('one', 81297),\n",
              " ('know', 79207),\n",
              " ('u', 75913),\n",
              " ('great', 75349),\n",
              " ('time', 74623)]"
            ]
          },
          "metadata": {},
          "execution_count": 16
        }
      ]
    },
    {
      "cell_type": "code",
      "metadata": {
        "colab": {
          "base_uri": "https://localhost:8080/"
        },
        "id": "8CnWIuXQpD8e",
        "outputId": "d5cfde80-9d89-40bc-95eb-70e5e57f423c"
      },
      "source": [
        "blog_count.most_common(10)"
      ],
      "id": "8CnWIuXQpD8e",
      "execution_count": null,
      "outputs": [
        {
          "output_type": "execute_result",
          "data": {
            "text/plain": [
              "[('one', 124321),\n",
              " ('time', 88110),\n",
              " ('would', 81663),\n",
              " ('know', 59932),\n",
              " ('people', 59217),\n",
              " ('dont', 56252),\n",
              " ('also', 55255),\n",
              " ('new', 54335),\n",
              " ('us', 53583),\n",
              " ('even', 51743)]"
            ]
          },
          "metadata": {},
          "execution_count": 17
        }
      ]
    },
    {
      "cell_type": "code",
      "metadata": {
        "colab": {
          "base_uri": "https://localhost:8080/"
        },
        "id": "hXnHh4xbpF-_",
        "outputId": "e27d06c2-81f6-4e41-8296-50bdd8ac4d78"
      },
      "source": [
        "news_count.most_common(10)"
      ],
      "id": "hXnHh4xbpF-_",
      "execution_count": null,
      "outputs": [
        {
          "output_type": "execute_result",
          "data": {
            "text/plain": [
              "[('said', 250347),\n",
              " ('one', 83167),\n",
              " ('would', 71595),\n",
              " ('new', 70301),\n",
              " ('also', 58756),\n",
              " ('two', 57340),\n",
              " ('year', 54764),\n",
              " ('first', 52628),\n",
              " ('years', 51527),\n",
              " ('last', 51521)]"
            ]
          },
          "metadata": {},
          "execution_count": 18
        }
      ]
    },
    {
      "cell_type": "markdown",
      "metadata": {
        "id": "25RIF9K1pPoK"
      },
      "source": [
        "### Nube de palabras"
      ],
      "id": "25RIF9K1pPoK"
    },
    {
      "cell_type": "code",
      "metadata": {
        "colab": {
          "base_uri": "https://localhost:8080/",
          "height": 286
        },
        "id": "JSmdYmiXpRnc",
        "outputId": "7696e21d-978d-4998-c65e-8f84f3d23d0e"
      },
      "source": [
        "cloud_tweet = WordCloud(background_color=\"white\",width=1000,height=1000, max_words=10,relative_scaling=0.5,normalize_plurals=False).generate_from_frequencies(tweet_count)\n",
        "plt.imshow(cloud_tweet)"
      ],
      "id": "JSmdYmiXpRnc",
      "execution_count": null,
      "outputs": [
        {
          "output_type": "execute_result",
          "data": {
            "text/plain": [
              "<matplotlib.image.AxesImage at 0x7f045a1d2510>"
            ]
          },
          "metadata": {},
          "execution_count": 19
        },
        {
          "output_type": "display_data",
          "data": {
            "image/png": "[encoded data removed]",
            "text/plain": [
              "<Figure size 432x288 with 1 Axes>"
            ]
          },
          "metadata": {
            "needs_background": "light"
          }
        }
      ]
    },
    {
      "cell_type": "code",
      "metadata": {
        "colab": {
          "base_uri": "https://localhost:8080/",
          "height": 286
        },
        "id": "eTRoAKOdpVMK",
        "outputId": "cc948854-4298-44e0-e773-b636486ee466"
      },
      "source": [
        "cloud_blog = WordCloud(background_color=\"white\",width=1000,height=1000, max_words=10,relative_scaling=0.5,normalize_plurals=False).generate_from_frequencies(blog_count)\n",
        "plt.imshow(cloud_blog)"
      ],
      "id": "eTRoAKOdpVMK",
      "execution_count": null,
      "outputs": [
        {
          "output_type": "execute_result",
          "data": {
            "text/plain": [
              "<matplotlib.image.AxesImage at 0x7f045c9e5f10>"
            ]
          },
          "metadata": {},
          "execution_count": 20
        },
        {
          "output_type": "display_data",
          "data": {
            "image/png": "[encoded data removed]",
            "text/plain": [
              "<Figure size 432x288 with 1 Axes>"
            ]
          },
          "metadata": {
            "needs_background": "light"
          }
        }
      ]
    },
    {
      "cell_type": "code",
      "metadata": {
        "colab": {
          "base_uri": "https://localhost:8080/",
          "height": 286
        },
        "id": "urRirTX1pZh3",
        "outputId": "467fb618-ec02-4b24-e829-6291f992d278"
      },
      "source": [
        "cloud_news = WordCloud(background_color=\"white\",width=1000,height=1000, max_words=10,relative_scaling=0.5,normalize_plurals=False).generate_from_frequencies(news_count)\n",
        "plt.imshow(cloud_news)"
      ],
      "id": "urRirTX1pZh3",
      "execution_count": null,
      "outputs": [
        {
          "output_type": "execute_result",
          "data": {
            "text/plain": [
              "<matplotlib.image.AxesImage at 0x7f045a920090>"
            ]
          },
          "metadata": {},
          "execution_count": 21
        },
        {
          "output_type": "display_data",
          "data": {
            "image/png": "[encoded data removed]",
            "text/plain": [
              "<Figure size 432x288 with 1 Axes>"
            ]
          },
          "metadata": {
            "needs_background": "light"
          }
        }
      ]
    },
    {
      "cell_type": "markdown",
      "metadata": {
        "id": "62Fv2fSvpeny"
      },
      "source": [
        "### Gráficas de barras"
      ],
      "id": "62Fv2fSvpeny"
    },
    {
      "cell_type": "code",
      "metadata": {
        "colab": {
          "base_uri": "https://localhost:8080/",
          "height": 336
        },
        "id": "80EPre4gpiIV",
        "outputId": "22c26ef1-a6c3-443e-d51a-a4d8c2fd40f9"
      },
      "source": [
        "datos_tweet = tweet_count.most_common(10)\n",
        "fig = plt.figure()\n",
        "ax = fig.add_axes([0,0,1,1])\n",
        "x_axis = [i[0] for i in datos_tweet]\n",
        "y_axis = [i[1] for i in datos_tweet]\n",
        "ax.bar(x_axis,y_axis)\n",
        "plt.show()"
      ],
      "id": "80EPre4gpiIV",
      "execution_count": null,
      "outputs": [
        {
          "output_type": "display_data",
          "data": {
            "image/png": "[encoded data removed]",
            "text/plain": [
              "<Figure size 432x288 with 1 Axes>"
            ]
          },
          "metadata": {
            "needs_background": "light"
          }
        }
      ]
    },
    {
      "cell_type": "code",
      "metadata": {
        "colab": {
          "base_uri": "https://localhost:8080/",
          "height": 336
        },
        "id": "m_JNQsbupjYJ",
        "outputId": "2856e320-e6e0-4cf5-d7ca-3cd1d21bada8"
      },
      "source": [
        "datos_blog = blog_count.most_common(10)\n",
        "fig = plt.figure()\n",
        "ax = fig.add_axes([0,0,1,1])\n",
        "x_axis = [i[0] for i in datos_blog]\n",
        "y_axis = [i[1] for i in datos_blog]\n",
        "ax.bar(x_axis,y_axis)\n",
        "plt.show()"
      ],
      "id": "m_JNQsbupjYJ",
      "execution_count": null,
      "outputs": [
        {
          "output_type": "display_data",
          "data": {
            "image/png": "[encoded data removed]",
            "text/plain": [
              "<Figure size 432x288 with 1 Axes>"
            ]
          },
          "metadata": {
            "needs_background": "light"
          }
        }
      ]
    },
    {
      "cell_type": "code",
      "metadata": {
        "colab": {
          "base_uri": "https://localhost:8080/",
          "height": 336
        },
        "id": "QgVh8d2cpmmK",
        "outputId": "8f926d7d-81a9-4b73-d5af-94833b951d43"
      },
      "source": [
        "datos_news = news_count.most_common(10)\n",
        "fig = plt.figure()\n",
        "ax = fig.add_axes([0,0,1,1])\n",
        "x_axis = [i[0] for i in datos_news]\n",
        "y_axis = [i[1] for i in datos_news]\n",
        "ax.bar(x_axis,y_axis)\n",
        "plt.show()"
      ],
      "id": "QgVh8d2cpmmK",
      "execution_count": null,
      "outputs": [
        {
          "output_type": "display_data",
          "data": {
            "image/png": "[encoded data removed]",
            "text/plain": [
              "<Figure size 432x288 with 1 Axes>"
            ]
          },
          "metadata": {
            "needs_background": "light"
          }
        }
      ]
    },
    {
      "cell_type": "markdown",
      "metadata": {
        "id": "YCvzJFU9rHDj"
      },
      "source": [
        "## N-Gramas"
      ],
      "id": "YCvzJFU9rHDj"
    },
    {
      "cell_type": "code",
      "metadata": {
        "id": "ph2aFDaurLEQ"
      },
      "source": [
        "global_data = clean_tweets+clean_news+clean_blogs"
      ],
      "id": "ph2aFDaurLEQ",
      "execution_count": null,
      "outputs": []
    },
    {
      "cell_type": "code",
      "metadata": {
        "id": "ZLvD0soXrtJX"
      },
      "source": [
        "val=round(len(global_data)*0.1,0)\n",
        "random_sample=random.sample(global_data,int(val))"
      ],
      "id": "ZLvD0soXrtJX",
      "execution_count": null,
      "outputs": []
    },
    {
      "cell_type": "markdown",
      "metadata": {
        "id": "6jvwSDhLsAuH"
      },
      "source": [
        "### 2-Grama"
      ],
      "id": "6jvwSDhLsAuH"
    },
    {
      "cell_type": "code",
      "metadata": {
        "id": "FsTi2sOEr9bS"
      },
      "source": [
        "warnings.filterwarnings('ignore')"
      ],
      "id": "FsTi2sOEr9bS",
      "execution_count": null,
      "outputs": []
    },
    {
      "cell_type": "code",
      "metadata": {
        "colab": {
          "base_uri": "https://localhost:8080/"
        },
        "id": "lDo8hXaMufar",
        "outputId": "4e55ea01-f925-4ae4-9c4c-8bff85eeb7f6"
      },
      "source": [
        "digrama=[]\n",
        "print(digrama)\n",
        "size=2\n",
        "def ngram(ngrama, size):\n",
        "  for word in range(len(random_sample)):\n",
        "    try:\n",
        "      for item in ngrams(random_sample[word].split(),size):\n",
        "          ngrama.append(item)\n",
        "    except:\n",
        "        return\n",
        "\n",
        "ngram(digrama, size)\n",
        "print(digrama)"
      ],
      "id": "lDo8hXaMufar",
      "execution_count": null,
      "outputs": [
        {
          "output_type": "stream",
          "text": [
            "[]\n",
            "[('king', 'hopes'), ('hopes', 'real'), ('real', 'life'), ('life', 'finds'), ('finds', 'crossover'), ('crossover', 'audience'), ('audience', 'also'), ('also', 'hopes'), ('hopes', 'transplant'), ('transplant', 'real'), ('real', 'life'), ('life', 'st'), ('st', 'louis'), ('louis', 'cities'), ('cities', 'hes'), ('hes', 'moving'), ('moving', 'los'), ('los', 'angeles'), ('angeles', 'next'), ('next', 'month'), ('month', 'shop'), ('shop', 'show'), ('preparing', 'action'), ('action', 'weiner'), ('weiner', 'said'), ('plans', 'eve'), ('eve', 'care'), ('care', 'join'), ('join', 'group'), ('group', 'drinksdinner'), ('kidding', 'would'), ('would', 'host'), ('host', 'radio'), ('radio', 'show'), ('show', 'ive'), ('ive', 'planning'), ('passion', 'art'), ('art', 'plain'), ('plain', 'see'), ('see', 'way'), ('way', 'describes'), ('describes', 'time'), ('time', 'put'), ('put', 'one'), ('one', 'pieces'), ('pieces', 'wearing'), ('wearing', 'unique'), ('unique', 'piece'), ('piece', 'art'), ('art', 'came'), ('came', 'directly'), ('directly', 'artists'), ('artists', 'inspiration'), ('dude', 'ever'), ('ever', 'walk'), ('walk', 'face'), ('face', 'zombie'), ('zombie', 'apocalypse'), ('apocalypse', 'worst'), ('worst', 'nightmare'), ('nightmare', 'would'), ('would', 'start'), ('start', 'creepy'), ('creepy', 'tunnel')]\n"
          ],
          "name": "stdout"
        }
      ]
    },
    {
      "cell_type": "code",
      "metadata": {
        "id": "5EDWw8HVmCDl",
        "colab": {
          "base_uri": "https://localhost:8080/"
        },
        "outputId": "b99fc4e0-d866-40f8-fe21-7fd698e601cb"
      },
      "source": [
        "trigrama=[]\n",
        "print(trigrama)\n",
        "size=3\n",
        "ngram(trigrama, size)\n",
        "print(trigrama)"
      ],
      "id": "5EDWw8HVmCDl",
      "execution_count": null,
      "outputs": [
        {
          "output_type": "stream",
          "text": [
            "[]\n",
            "[('king', 'hopes', 'real'), ('hopes', 'real', 'life'), ('real', 'life', 'finds'), ('life', 'finds', 'crossover'), ('finds', 'crossover', 'audience'), ('crossover', 'audience', 'also'), ('audience', 'also', 'hopes'), ('also', 'hopes', 'transplant'), ('hopes', 'transplant', 'real'), ('transplant', 'real', 'life'), ('real', 'life', 'st'), ('life', 'st', 'louis'), ('st', 'louis', 'cities'), ('louis', 'cities', 'hes'), ('cities', 'hes', 'moving'), ('hes', 'moving', 'los'), ('moving', 'los', 'angeles'), ('los', 'angeles', 'next'), ('angeles', 'next', 'month'), ('next', 'month', 'shop'), ('month', 'shop', 'show'), ('preparing', 'action', 'weiner'), ('action', 'weiner', 'said'), ('plans', 'eve', 'care'), ('eve', 'care', 'join'), ('care', 'join', 'group'), ('join', 'group', 'drinksdinner'), ('kidding', 'would', 'host'), ('would', 'host', 'radio'), ('host', 'radio', 'show'), ('radio', 'show', 'ive'), ('show', 'ive', 'planning'), ('passion', 'art', 'plain'), ('art', 'plain', 'see'), ('plain', 'see', 'way'), ('see', 'way', 'describes'), ('way', 'describes', 'time'), ('describes', 'time', 'put'), ('time', 'put', 'one'), ('put', 'one', 'pieces'), ('one', 'pieces', 'wearing'), ('pieces', 'wearing', 'unique'), ('wearing', 'unique', 'piece'), ('unique', 'piece', 'art'), ('piece', 'art', 'came'), ('art', 'came', 'directly'), ('came', 'directly', 'artists'), ('directly', 'artists', 'inspiration'), ('dude', 'ever', 'walk'), ('ever', 'walk', 'face'), ('walk', 'face', 'zombie'), ('face', 'zombie', 'apocalypse'), ('zombie', 'apocalypse', 'worst'), ('apocalypse', 'worst', 'nightmare'), ('worst', 'nightmare', 'would'), ('nightmare', 'would', 'start'), ('would', 'start', 'creepy'), ('start', 'creepy', 'tunnel')]\n"
          ],
          "name": "stdout"
        }
      ]
    },
    {
      "cell_type": "code",
      "metadata": {
        "colab": {
          "base_uri": "https://localhost:8080/"
        },
        "id": "zcAZei1NL_ph",
        "outputId": "cdf5a121-1e2e-4816-f147-1d0337ccddea"
      },
      "source": [
        "tetragrama=[]\n",
        "print(tetragrama)\n",
        "size=4\n",
        "ngram(tetragrama, size)\n",
        "print(tetragrama)"
      ],
      "id": "zcAZei1NL_ph",
      "execution_count": null,
      "outputs": [
        {
          "output_type": "stream",
          "text": [
            "[]\n",
            "[('king', 'hopes', 'real', 'life'), ('hopes', 'real', 'life', 'finds'), ('real', 'life', 'finds', 'crossover'), ('life', 'finds', 'crossover', 'audience'), ('finds', 'crossover', 'audience', 'also'), ('crossover', 'audience', 'also', 'hopes'), ('audience', 'also', 'hopes', 'transplant'), ('also', 'hopes', 'transplant', 'real'), ('hopes', 'transplant', 'real', 'life'), ('transplant', 'real', 'life', 'st'), ('real', 'life', 'st', 'louis'), ('life', 'st', 'louis', 'cities'), ('st', 'louis', 'cities', 'hes'), ('louis', 'cities', 'hes', 'moving'), ('cities', 'hes', 'moving', 'los'), ('hes', 'moving', 'los', 'angeles'), ('moving', 'los', 'angeles', 'next'), ('los', 'angeles', 'next', 'month'), ('angeles', 'next', 'month', 'shop'), ('next', 'month', 'shop', 'show'), ('preparing', 'action', 'weiner', 'said'), ('plans', 'eve', 'care', 'join'), ('eve', 'care', 'join', 'group'), ('care', 'join', 'group', 'drinksdinner'), ('kidding', 'would', 'host', 'radio'), ('would', 'host', 'radio', 'show'), ('host', 'radio', 'show', 'ive'), ('radio', 'show', 'ive', 'planning'), ('passion', 'art', 'plain', 'see'), ('art', 'plain', 'see', 'way'), ('plain', 'see', 'way', 'describes'), ('see', 'way', 'describes', 'time'), ('way', 'describes', 'time', 'put'), ('describes', 'time', 'put', 'one'), ('time', 'put', 'one', 'pieces'), ('put', 'one', 'pieces', 'wearing'), ('one', 'pieces', 'wearing', 'unique'), ('pieces', 'wearing', 'unique', 'piece'), ('wearing', 'unique', 'piece', 'art'), ('unique', 'piece', 'art', 'came'), ('piece', 'art', 'came', 'directly'), ('art', 'came', 'directly', 'artists'), ('came', 'directly', 'artists', 'inspiration'), ('dude', 'ever', 'walk', 'face'), ('ever', 'walk', 'face', 'zombie'), ('walk', 'face', 'zombie', 'apocalypse'), ('face', 'zombie', 'apocalypse', 'worst'), ('zombie', 'apocalypse', 'worst', 'nightmare'), ('apocalypse', 'worst', 'nightmare', 'would'), ('worst', 'nightmare', 'would', 'start'), ('nightmare', 'would', 'start', 'creepy'), ('would', 'start', 'creepy', 'tunnel')]\n"
          ],
          "name": "stdout"
        }
      ]
    },
    {
      "cell_type": "code",
      "metadata": {
        "colab": {
          "base_uri": "https://localhost:8080/"
        },
        "id": "D-YKCmEywhbX",
        "outputId": "836031da-7837-4078-8715-12f8d3f1abf8"
      },
      "source": [
        "pentgrama=[]\n",
        "print(pentgrama)\n",
        "size=5\n",
        "ngram(pentgrama, size)\n",
        "print(pentgrama)"
      ],
      "id": "D-YKCmEywhbX",
      "execution_count": null,
      "outputs": [
        {
          "output_type": "stream",
          "text": [
            "[]\n",
            "[('king', 'hopes', 'real', 'life', 'finds'), ('hopes', 'real', 'life', 'finds', 'crossover'), ('real', 'life', 'finds', 'crossover', 'audience'), ('life', 'finds', 'crossover', 'audience', 'also'), ('finds', 'crossover', 'audience', 'also', 'hopes'), ('crossover', 'audience', 'also', 'hopes', 'transplant'), ('audience', 'also', 'hopes', 'transplant', 'real'), ('also', 'hopes', 'transplant', 'real', 'life'), ('hopes', 'transplant', 'real', 'life', 'st'), ('transplant', 'real', 'life', 'st', 'louis'), ('real', 'life', 'st', 'louis', 'cities'), ('life', 'st', 'louis', 'cities', 'hes'), ('st', 'louis', 'cities', 'hes', 'moving'), ('louis', 'cities', 'hes', 'moving', 'los'), ('cities', 'hes', 'moving', 'los', 'angeles'), ('hes', 'moving', 'los', 'angeles', 'next'), ('moving', 'los', 'angeles', 'next', 'month'), ('los', 'angeles', 'next', 'month', 'shop'), ('angeles', 'next', 'month', 'shop', 'show'), ('plans', 'eve', 'care', 'join', 'group'), ('eve', 'care', 'join', 'group', 'drinksdinner'), ('kidding', 'would', 'host', 'radio', 'show'), ('would', 'host', 'radio', 'show', 'ive'), ('host', 'radio', 'show', 'ive', 'planning'), ('passion', 'art', 'plain', 'see', 'way'), ('art', 'plain', 'see', 'way', 'describes'), ('plain', 'see', 'way', 'describes', 'time'), ('see', 'way', 'describes', 'time', 'put'), ('way', 'describes', 'time', 'put', 'one'), ('describes', 'time', 'put', 'one', 'pieces'), ('time', 'put', 'one', 'pieces', 'wearing'), ('put', 'one', 'pieces', 'wearing', 'unique'), ('one', 'pieces', 'wearing', 'unique', 'piece'), ('pieces', 'wearing', 'unique', 'piece', 'art'), ('wearing', 'unique', 'piece', 'art', 'came'), ('unique', 'piece', 'art', 'came', 'directly'), ('piece', 'art', 'came', 'directly', 'artists'), ('art', 'came', 'directly', 'artists', 'inspiration'), ('dude', 'ever', 'walk', 'face', 'zombie'), ('ever', 'walk', 'face', 'zombie', 'apocalypse'), ('walk', 'face', 'zombie', 'apocalypse', 'worst'), ('face', 'zombie', 'apocalypse', 'worst', 'nightmare'), ('zombie', 'apocalypse', 'worst', 'nightmare', 'would'), ('apocalypse', 'worst', 'nightmare', 'would', 'start'), ('worst', 'nightmare', 'would', 'start', 'creepy'), ('nightmare', 'would', 'start', 'creepy', 'tunnel')]\n"
          ],
          "name": "stdout"
        }
      ]
    },
    {
      "cell_type": "markdown",
      "metadata": {
        "id": "4S0noP7jwqnU"
      },
      "source": [
        "### K-Nearest Neighbor Probability Model"
      ],
      "id": "4S0noP7jwqnU"
    },
    {
      "cell_type": "code",
      "metadata": {
        "id": "zzTY0e4swoDS"
      },
      "source": [
        "model = defaultdict(lambda: defaultdict(lambda: 0))\n",
        "for i,j,k,l,m in pentgrama:\n",
        "    model[(i,j)][k,l,m] += 1\n",
        "for i,j in model:\n",
        "    total=float(sum(model[(i,j)].values()))\n",
        "    for k,l,m in model[(i,j)]:\n",
        "        model[(i,j)][k,l,m] /= total"
      ],
      "id": "zzTY0e4swoDS",
      "execution_count": null,
      "outputs": []
    },
    {
      "cell_type": "code",
      "metadata": {
        "id": "o1COrVNAA65N"
      },
      "source": [
        "model2 = defaultdict(lambda: defaultdict(lambda: 0))\n",
        "for i,j in digrama:\n",
        "    model2[(i)][j] += 1\n",
        "for i in model2:\n",
        "    total=float(sum(model2[(i)].values()))\n",
        "    for j in model2[(i)]:\n",
        "        model2[(i)][j] /= total"
      ],
      "id": "o1COrVNAA65N",
      "execution_count": null,
      "outputs": []
    },
    {
      "cell_type": "code",
      "metadata": {
        "id": "GRsx56BHMi3a"
      },
      "source": [
        "model3 = defaultdict(lambda: defaultdict(lambda: 0))\n",
        "for i,j,k in trigrama:\n",
        "    model3[(i)][j,k] += 1\n",
        "for i in model3:\n",
        "    total=float(sum(model3[(i)].values()))\n",
        "    for j,k in model3[(i)]:\n",
        "        model3[(i)][j,k] /= total"
      ],
      "id": "GRsx56BHMi3a",
      "execution_count": null,
      "outputs": []
    },
    {
      "cell_type": "code",
      "metadata": {
        "id": "VqPOrIHBOgs9"
      },
      "source": [
        "model4 = defaultdict(lambda: defaultdict(lambda: 0))\n",
        "for i,j,k,l in tetragrama:\n",
        "    model4[(i,j)][k,l] += 1\n",
        "for i,j in model4:\n",
        "    total=float(sum(model4[(i,j)].values()))\n",
        "    for k,l in model4[(i,j)]:\n",
        "        model4[(i,j)][k,l] /= total"
      ],
      "id": "VqPOrIHBOgs9",
      "execution_count": null,
      "outputs": []
    },
    {
      "cell_type": "markdown",
      "metadata": {
        "id": "mphgW_fBGGb7"
      },
      "source": [
        "# Descripción de Algorimo\n",
        "\n",
        "El algoritmo que se utiliza para predecir las próximas 3 palabras, toma los modelos generados a través de los distintos digramas, trigramas, tetragramas y pentagramas para predecir el resultado, realizando los siguientes pasos. \n",
        "\n",
        "Por cada vez que una palabra aparezca dentro de la predicción de un n-grama se procederá a agregar un punto. \n",
        "\n",
        "Para cumplir con esta regla se instanció un diccionario vacío en el cual se evalua si la palabra esta, si es así se le suma 1 a su valor actual si no es así se crea la llave con el valor de 1. \n",
        "\n",
        "El algoritmo primero evalua los pentagramas para poder instanciar tres llaves en el diccionario, luega se analiza los pentagramas para sumar o crear llaves. Así mismo se procede con los digramas y. trigramas de cada palabra para sumar puntos o crear nuevas llaves. \n",
        "\n",
        "Al final a a través de un sort se ordenan las llaves del diccionario de acuerdo a su valor, que son los puntos que adquirieron durante el algoritmo y se retornan las 3 llaves con mejor resultado"
      ],
      "id": "mphgW_fBGGb7"
    },
    {
      "cell_type": "markdown",
      "metadata": {
        "id": "TzJdguyFxJwk"
      },
      "source": [
        "### Función de predicción"
      ],
      "id": "TzJdguyFxJwk"
    },
    {
      "cell_type": "code",
      "metadata": {
        "id": "wBqdL3JzxJFI"
      },
      "source": [
        "def prediction(input1,input2):\n",
        "  predictions = {}\n",
        "  for word1, word2, word3 in model[(input1,input2)].keys():\n",
        "    predictions[word1] = 1 \n",
        "    predictions[word2] = 1 \n",
        "    predictions[word3] = 1\n",
        "  for word1, word2 in model4[(input1,input2)].keys():\n",
        "    predictions[word1] = predictions[word1] + 1 if word1 in predictions else 1\n",
        "    predictions[word2] = predictions[word2] + 1 if word2 in predictions else 1\n",
        "    predictions[word3] = predictions[word3] + 1 if word3 in predictions else 1\n",
        "  for word1, word2 in model3[(input1)].keys():\n",
        "    predictions[word1] = predictions[word1] + 1 if word1 in predictions else 1\n",
        "    predictions[word2] = predictions[word2] + 1 if word2 in predictions else 1\n",
        "  for word1, word2 in model3[(input2)].keys():\n",
        "    predictions[word1] = predictions[word1] + 1 if word1 in predictions else 1\n",
        "    predictions[word2] = predictions[word2] + 1 if word2 in predictions else 1\n",
        "  for word1 in model2[(input1)].keys():\n",
        "    predictions[word1] = predictions[word1] + 1 if word1 in predictions else 1\n",
        "  for word1 in model2[(input2)].keys():\n",
        "    predictions[word1] = predictions[word1] + 1 if word1 in predictions else 1\n",
        "  return predictions"
      ],
      "id": "wBqdL3JzxJFI",
      "execution_count": null,
      "outputs": []
    },
    {
      "cell_type": "code",
      "metadata": {
        "colab": {
          "base_uri": "https://localhost:8080/"
        },
        "id": "sBlnWGg60e7Z",
        "outputId": "da3f8418-6967-4609-9286-2d9a2255cb67"
      },
      "source": [
        "predictions = prediction('zombie','apocalypse')\n",
        "my_predictions = dict(sorted(predictions.items(), key=lambda item: item[1], reverse=True))\n",
        "count = 0\n",
        "print(\"Next words should be: \")\n",
        "for i in my_predictions:\n",
        "  if (count<3):\n",
        "    print(i)\n",
        "  count += 1"
      ],
      "id": "sBlnWGg60e7Z",
      "execution_count": null,
      "outputs": [
        {
          "output_type": "stream",
          "text": [
            "Next words should be: \n",
            "worst\n",
            "nightmare\n",
            "would\n"
          ],
          "name": "stdout"
        }
      ]
    },
    {
      "cell_type": "code",
      "metadata": {
        "id": "UbhxErp0-iUP"
      },
      "source": [
        ""
      ],
      "id": "UbhxErp0-iUP",
      "execution_count": null,
      "outputs": []
    }
  ]
}