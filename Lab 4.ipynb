{
 "cells": [
  {
   "cell_type": "code",
   "execution_count": 15,
   "id": "70d909af",
   "metadata": {},
   "outputs": [],
   "source": [
    "import pandas as pd\n",
    "import numpy as np\n",
    "import os\n",
    "import re"
   ]
  },
  {
   "cell_type": "code",
   "execution_count": 16,
   "id": "10cb205e-84cc-4650-a076-9cca12fe0632",
   "metadata": {},
   "outputs": [
    {
     "name": "stdout",
     "output_type": "stream",
     "text": [
      "210160014  bytes\n"
     ]
    }
   ],
   "source": [
    "blog = open(\"en_US.blogs.txt\", encoding=\"utf8\").read()\n",
    "blogSize = os.stat(\"en_US.blogs.txt\")\n",
    "print(blogSize.st_size, \" bytes\")"
   ]
  },
  {
   "cell_type": "code",
   "execution_count": 17,
   "id": "a4241957-5f3e-431d-ae73-7005ff14d21a",
   "metadata": {},
   "outputs": [
    {
     "name": "stdout",
     "output_type": "stream",
     "text": [
      "167105338  bytes\n"
     ]
    }
   ],
   "source": [
    "tweets = open(\"en_US.twitter.txt\", encoding=\"utf8\").read()\n",
    "tweetSize = os.stat(\"en_US.twitter.txt\")\n",
    "print(tweetSize.st_size, \" bytes\")"
   ]
  },
  {
   "cell_type": "code",
   "execution_count": 18,
   "id": "89ff2df4-60c9-4d43-bbee-2d11a3c99c1a",
   "metadata": {},
   "outputs": [
    {
     "name": "stdout",
     "output_type": "stream",
     "text": [
      "205811889  bytes\n"
     ]
    }
   ],
   "source": [
    "news = open(\"en_US.news.txt\", encoding=\"utf8\").read()\n",
    "newSize = os.stat(\"en_US.news.txt\")\n",
    "print(newSize.st_size, \" bytes\")"
   ]
  },
  {
   "cell_type": "code",
   "execution_count": null,
   "id": "94ecd37e",
   "metadata": {},
   "outputs": [],
   "source": [
    "#Eliminar url\n",
    "blog = [re.sub('\\w+:\\/{2}[\\d\\w-]+(\\.[\\d\\w-]+)*(?:(?:\\/[^\\s/]*))*','',i) for i in blog]\n",
    "blog = [re.sub(r'^https?:\\/\\/.*[\\r\\n]*', '', i) for i in blog]\n",
    "\n",
    "news = [re.sub('\\w+:\\/{2}[\\d\\w-]+(\\.[\\d\\w-]+)*(?:(?:\\/[^\\s/]*))*','',i) for i in news]\n",
    "news = [re.sub(r'^https?:\\/\\/.*[\\r\\n]*', '', i) for i in news]\n",
    "\n",
    "tweets = [re.sub('\\w+:\\/{2}[\\d\\w-]+(\\.[\\d\\w-]+)*(?:(?:\\/[^\\s/]*))*','',i) for i in tweets]\n",
    "tweets = [re.sub(r'^https?:\\/\\/.*[\\r\\n]*', '', i) for i in tweets]\n",
    "\n",
    "### Se hace la eliminación de caracteres especiales, numeros y emojis\n",
    "tweets = [re.sub('[^a-zA-Z0-9 ]+','', i) for i in tweets]\n",
    "news = [re.sub('[^a-zA-Z0-9 ]+', '', i) for i in news]\n",
    "blog = [re.sub('[^a-zA-Z0-9 ]+', '', i) for i in blog]"
   ]
  },
  {
   "cell_type": "code",
   "execution_count": null,
   "id": "alike-faculty",
   "metadata": {},
   "outputs": [],
   "source": [
    "tweets = tweets.lower()\n",
    "news = news.lower()\n",
    "blog = blog.lower()\n",
    "\n",
    "tweets_array = tweets.split(\" \")\n",
    "news_array = news.split(\" \")\n",
    "blog_array = blog.split(\" \")"
   ]
  },
  {
   "cell_type": "markdown",
   "id": "polished-maine",
   "metadata": {},
   "source": [
    "### Frecuencia en tweets"
   ]
  },
  {
   "cell_type": "code",
   "execution_count": null,
   "id": "concerned-debate",
   "metadata": {},
   "outputs": [],
   "source": [
    "frec_dic_tweets = {}\n",
    "for word in tweets_array:\n",
    "    if word in frec_dic_tweets:\n",
    "        frec_dic_tweets[word] += 1\n",
    "    else:\n",
    "        frec_dic_tweets[word] = 1\n",
    "\n",
    "tweets_frecuency = pd.DataFrame.from_dict(frec_dic_tweets, orient='index')\n",
    "tweets_frecuency"
   ]
  },
  {
   "cell_type": "markdown",
   "id": "immune-batman",
   "metadata": {},
   "source": [
    "### Frecuencia en noticias"
   ]
  },
  {
   "cell_type": "code",
   "execution_count": null,
   "id": "reserved-antarctica",
   "metadata": {},
   "outputs": [],
   "source": [
    "frec_dic_news = {}\n",
    "for word in news_array:\n",
    "    if word in frec_dic_news:\n",
    "        frec_dic_news[word] += 1\n",
    "    else:\n",
    "        frec_dic_news[word] = 1\n",
    "\n",
    "news_frecuency = pd.DataFrame.from_dict(frec_dic_news, orient='index')\n",
    "news_frecuency"
   ]
  },
  {
   "cell_type": "markdown",
   "id": "broke-feelings",
   "metadata": {},
   "source": [
    "### Frecuencia en blogs"
   ]
  },
  {
   "cell_type": "code",
   "execution_count": null,
   "id": "responsible-attention",
   "metadata": {},
   "outputs": [],
   "source": [
    "frec_dic_blogs = {}\n",
    "for word in blog_array:\n",
    "    if word in frec_dic_blogs:\n",
    "        frec_dic_blogs[word] += 1\n",
    "    else:\n",
    "        frec_dic_blogs[word] = 1\n",
    "\n",
    "blogs_frecuency = pd.DataFrame.from_dict(frec_dic_blogs, orient='index')\n",
    "blogs_frecuency"
   ]
  },
  {
   "cell_type": "code",
   "execution_count": null,
   "id": "hawaiian-wales",
   "metadata": {},
   "outputs": [],
   "source": []
  }
 ],
 "metadata": {
  "kernelspec": {
   "display_name": "Python 3",
   "language": "python",
   "name": "python3"
  },
  "language_info": {
   "codemirror_mode": {
    "name": "ipython",
    "version": 3
   },
   "file_extension": ".py",
   "mimetype": "text/x-python",
   "name": "python",
   "nbconvert_exporter": "python",
   "pygments_lexer": "ipython3",
   "version": "3.9.6"
  }
 },
 "nbformat": 4,
 "nbformat_minor": 5
}
