{
 "cells": [
  {
   "cell_type": "code",
   "execution_count": 2,
   "id": "70d909af",
   "metadata": {},
   "outputs": [],
   "source": [
    "import pandas as pd\n",
    "import numpy as np\n",
    "import os"
   ]
  },
  {
   "cell_type": "code",
   "execution_count": 7,
   "id": "10cb205e-84cc-4650-a076-9cca12fe0632",
   "metadata": {},
   "outputs": [
    {
     "name": "stdout",
     "output_type": "stream",
     "text": [
      "210160014  bytes\n"
     ]
    }
   ],
   "source": [
    "blog = open(\"en_US.blogs.txt\", encoding=\"utf8\").read()\n",
    "blogSize = os.stat(\"en_US.blogs.txt\")\n",
    "print(blogSize.st_size, \" bytes\")"
   ]
  },
  {
   "cell_type": "code",
   "execution_count": 8,
   "id": "a4241957-5f3e-431d-ae73-7005ff14d21a",
   "metadata": {},
   "outputs": [
    {
     "name": "stdout",
     "output_type": "stream",
     "text": [
      "167105338  bytes\n"
     ]
    }
   ],
   "source": [
    "tweets = open(\"en_US.twitter.txt\", encoding=\"utf8\").read()\n",
    "tweetSize = os.stat(\"en_US.twitter.txt\")\n",
    "print(tweetSize.st_size, \" bytes\")"
   ]
  },
  {
   "cell_type": "code",
   "execution_count": 10,
   "id": "89ff2df4-60c9-4d43-bbee-2d11a3c99c1a",
   "metadata": {},
   "outputs": [
    {
     "name": "stdout",
     "output_type": "stream",
     "text": [
      "205811889  bytes\n"
     ]
    }
   ],
   "source": [
    "news = open(\"en_US.news.txt\", encoding=\"utf8\").read()\n",
    "newSize = os.stat(\"en_US.news.txt\")\n",
    "print(newSize.st_size, \" bytes\")"
   ]
  }
 ],
 "metadata": {
  "kernelspec": {
   "display_name": "Python 3 (ipykernel)",
   "language": "python",
   "name": "python3"
  },
  "language_info": {
   "codemirror_mode": {
    "name": "ipython",
    "version": 3
   },
   "file_extension": ".py",
   "mimetype": "text/x-python",
   "name": "python",
   "nbconvert_exporter": "python",
   "pygments_lexer": "ipython3",
   "version": "3.8.2"
  }
 },
 "nbformat": 4,
 "nbformat_minor": 5
}
