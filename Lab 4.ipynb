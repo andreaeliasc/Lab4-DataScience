{
<<<<<<< HEAD
  "nbformat": 4,
  "nbformat_minor": 5,
  "metadata": {
    "kernelspec": {
      "display_name": "Python 3 (ipykernel)",
      "language": "python",
      "name": "python3"
    },
    "language_info": {
      "codemirror_mode": {
        "name": "ipython",
        "version": 3
      },
      "file_extension": ".py",
      "mimetype": "text/x-python",
      "name": "python",
      "nbconvert_exporter": "python",
      "pygments_lexer": "ipython3",
      "version": "3.8.2"
    },
    "colab": {
      "name": "Lab 4.ipynb",
      "provenance": [],
      "collapsed_sections": []
=======
 "cells": [
  {
   "cell_type": "code",
   "execution_count": 1,
   "id": "70d909af",
   "metadata": {},
   "outputs": [],
   "source": [
    "import pandas as pd\n",
    "import numpy as np\n",
    "import os\n",
    "import re"
   ]
  },
  {
   "cell_type": "code",
   "execution_count": 2,
   "id": "10cb205e-84cc-4650-a076-9cca12fe0632",
   "metadata": {},
   "outputs": [
    {
     "name": "stdout",
     "output_type": "stream",
     "text": [
      "210160014  bytes\n"
     ]
>>>>>>> 9bd281b7f73c4673f1c0dfb8cd12e7b37f09e3fc
    }
  },
<<<<<<< HEAD
  "cells": [
    {
      "cell_type": "code",
      "metadata": {
        "colab": {
          "base_uri": "https://localhost:8080/"
        },
        "id": "6NO4EhL0O103",
        "outputId": "010e793f-e81c-4a02-eeeb-d02ca6e1bc73"
      },
      "source": [
        "from google.colab import drive\n",
        "drive.mount('/content/drive')"
      ],
      "id": "6NO4EhL0O103",
      "execution_count": null,
      "outputs": [
        {
          "output_type": "stream",
          "text": [
            "Mounted at /content/drive\n"
          ],
          "name": "stdout"
        }
      ]
    },
    {
      "cell_type": "code",
      "metadata": {
        "colab": {
          "base_uri": "https://localhost:8080/"
        },
        "id": "R4bh45KlPKHw",
        "outputId": "e4939162-3cd7-4623-ba63-a6e00b212463"
      },
      "source": [
        "!ls \"/content/drive/MyDrive/datasets/NLP/\""
      ],
      "id": "R4bh45KlPKHw",
      "execution_count": null,
      "outputs": [
        {
          "output_type": "stream",
          "text": [
            "en_US.blogs.txt  en_US.news.txt  en_US.twitter.txt\n"
          ],
          "name": "stdout"
        }
      ]
    },
    {
      "cell_type": "code",
      "metadata": {
        "colab": {
          "base_uri": "https://localhost:8080/"
        },
        "id": "70d909af",
        "outputId": "1094beab-748f-4140-96bc-0b74aa328ac9"
      },
      "source": [
        "import pandas as pd\n",
        "import numpy as np\n",
        "import os\n",
        "import re\n",
        "import nltk\n",
        "nltk.download('stopwords')\n",
        "from nltk.corpus import stopwords\n",
        "from nltk.util import ngrams\n",
        "from nltk import word_tokenize\n",
        "import matplotlib.pyplot as plt\n",
        "from wordcloud import WordCloud\n",
        "from nltk.corpus import reuters\n",
        "from collections import Counter, defaultdict"
      ],
      "id": "70d909af",
      "execution_count": null,
      "outputs": [
        {
          "output_type": "stream",
          "text": [
            "[nltk_data] Downloading package stopwords to /root/nltk_data...\n",
            "[nltk_data]   Package stopwords is already up-to-date!\n"
          ],
          "name": "stdout"
        }
      ]
    },
    {
      "cell_type": "code",
      "metadata": {
        "id": "1wF9Y7HIRNxx"
      },
      "source": [
        "fileBlog = open('/content/drive/MyDrive/datasets/NLP/en_US.blogs.txt','r')\n",
        "fblog = fileBlog.readlines()\n",
        "blogs = [i.lower() for i in fblog] \n",
        "fileBlog.close()\n",
        "\n",
        "fileNews = open('/content/drive/MyDrive/datasets/NLP/en_US.news.txt','r')\n",
        "fnews = fileNews.readlines()\n",
        "news = [i.lower() for i in fnews]\n",
        "fileNews.close()\n",
        "\n",
        "fileTwitter = open('/content/drive/MyDrive/datasets/NLP/en_US.twitter.txt','r')\n",
        "ftwitter = fileTwitter.readlines()\n",
        "tweets = [i.lower() for i in ftwitter]\n",
        "fileTwitter.close()\n"
      ],
      "id": "1wF9Y7HIRNxx",
      "execution_count": null,
      "outputs": []
    },
    {
      "cell_type": "code",
      "metadata": {
        "id": "94ecd37e"
      },
      "source": [
        "#Eliminar url\n",
        "blogs = [re.sub('\\w+:\\/{2}[\\d\\w-]+(\\.[\\d\\w-]+)*(?:(?:\\/[^\\s/]*))*','',i) for i in blog]\n",
        "blogs = [re.sub(r'^https?:\\/\\/.*[\\r\\n]*', '', i) for i in blog]\n",
        "\n",
        "news = [re.sub('\\w+:\\/{2}[\\d\\w-]+(\\.[\\d\\w-]+)*(?:(?:\\/[^\\s/]*))*','',i) for i in news]\n",
        "news = [re.sub(r'^https?:\\/\\/.*[\\r\\n]*', '', i) for i in news]\n",
        "\n",
        "tweets = [re.sub('\\w+:\\/{2}[\\d\\w-]+(\\.[\\d\\w-]+)*(?:(?:\\/[^\\s/]*))*','',i) for i in tweets]\n",
        "tweets = [re.sub(r'^https?:\\/\\/.*[\\r\\n]*', '', i) for i in tweets]\n",
        "\n",
        "### Se hace la eliminación de caracteres especiales, numeros y emojis\n",
        "tweets = [re.sub('[^a-zA-Z0-9 ]+','', i) for i in tweets]\n",
        "news = [re.sub('[^a-zA-Z0-9 ]+', '', i) for i in news]\n",
        "blogs = [re.sub('[^a-zA-Z0-9 ]+', '', i) for i in blog]"
      ],
      "id": "94ecd37e",
      "execution_count": null,
      "outputs": []
    },
    {
      "cell_type": "code",
      "metadata": {
        "id": "z9YrTgKRXYXP"
      },
      "source": [
        "#Quitar palabras tendencias\n",
        "stopwords = set(stopwords.words('english'))\n",
        "expresiones = ['im','rt','jk','btw','lol','yolo','lmao','lmfao','fb','like','get','em']\n",
        "for i in expresiones:\n",
        "    stopwords.add(i)\n",
        "\n",
        "clean_tweets = []\n",
        "for tweet in tweets:\n",
        "    word_list = []\n",
        "    for word in tweet.split():\n",
        "        if word not in stopwords:\n",
        "            word_list.append(word)\n",
        "    clean_tweets.append(' '.join(word_list))\n",
        "\n",
        "clean_blogs = []\n",
        "for blog in blogs:\n",
        "    word_listo = []\n",
        "    for word in blog.split():\n",
        "        if word not in stopwords:\n",
        "            word_listo.append(word)\n",
        "    clean_blogs.append(' '.join(word_listo))\n",
        "\n",
        "clean_news = []\n",
        "for new in news:\n",
        "    list_words = []\n",
        "    for word in new.split():\n",
        "        if word not in stopwords:\n",
        "            list_words.append(word)\n",
        "    clean_news.append(' '.join(list_words))"
      ],
      "id": "z9YrTgKRXYXP",
      "execution_count": null,
      "outputs": []
    },
    {
      "cell_type": "markdown",
      "metadata": {
        "id": "N5wmvgRoVprR"
      },
      "source": [
        "# Análisis Exploratorio"
      ],
      "id": "N5wmvgRoVprR"
    },
    {
      "cell_type": "markdown",
      "metadata": {
        "id": "polished-maine"
      },
      "source": [
        "### Frecuencia en tweets"
      ],
      "id": "polished-maine"
    },
    {
      "cell_type": "code",
      "metadata": {
        "colab": {
          "base_uri": "https://localhost:8080/",
          "height": 424
        },
        "id": "concerned-debate",
        "outputId": "d0b9bf3e-b300-4370-a370-420ab9f12ff0"
      },
      "source": [
        "frec_dic_tweets = {}\n",
        "for word in clean_tweets:\n",
        "    if word in frec_dic_tweets:\n",
        "        frec_dic_tweets[word] += 1\n",
        "    else:\n",
        "        frec_dic_tweets[word] = 1\n",
        "\n",
        "tweets_frecuency = pd.DataFrame.from_dict(frec_dic_tweets, orient='index')\n",
        "tweets_frecuency"
      ],
      "id": "concerned-debate",
      "execution_count": null,
      "outputs": [
        {
          "output_type": "execute_result",
          "data": {
            "text/html": [
              "<div>\n",
              "<style scoped>\n",
              "    .dataframe tbody tr th:only-of-type {\n",
              "        vertical-align: middle;\n",
              "    }\n",
              "\n",
              "    .dataframe tbody tr th {\n",
              "        vertical-align: top;\n",
              "    }\n",
              "\n",
              "    .dataframe thead th {\n",
              "        text-align: right;\n",
              "    }\n",
              "</style>\n",
              "<table border=\"1\" class=\"dataframe\">\n",
              "  <thead>\n",
              "    <tr style=\"text-align: right;\">\n",
              "      <th></th>\n",
              "      <th>0</th>\n",
              "    </tr>\n",
              "  </thead>\n",
              "  <tbody>\n",
              "    <tr>\n",
              "      <th>thanks gonna dc anytime soon love see way way long</th>\n",
              "      <td>1</td>\n",
              "    </tr>\n",
              "    <tr>\n",
              "      <th>meet someone special youll know heart beat rapidly youll smile reason</th>\n",
              "      <td>1</td>\n",
              "    </tr>\n",
              "    <tr>\n",
              "      <th>theyve decided fun dont</th>\n",
              "      <td>1</td>\n",
              "    </tr>\n",
              "    <tr>\n",
              "      <th>tired played lazer tag ran lot ughh going sleep 5 minutes</th>\n",
              "      <td>1</td>\n",
              "    </tr>\n",
              "    <tr>\n",
              "      <th>words complete stranger made birthday even better</th>\n",
              "      <td>1</td>\n",
              "    </tr>\n",
              "    <tr>\n",
              "      <th>...</th>\n",
              "      <td>...</td>\n",
              "    </tr>\n",
              "    <tr>\n",
              "      <th>u didnt give</th>\n",
              "      <td>1</td>\n",
              "    </tr>\n",
              "    <tr>\n",
              "      <th>whats good see success got poppin yo area</th>\n",
              "      <td>1</td>\n",
              "    </tr>\n",
              "    <tr>\n",
              "      <th>consumers visual want data finger tips mobile way deliver 247</th>\n",
              "      <td>1</td>\n",
              "    </tr>\n",
              "    <tr>\n",
              "      <th>rhonj time</th>\n",
              "      <td>1</td>\n",
              "    </tr>\n",
              "    <tr>\n",
              "      <th>key keeping woman happy attention affection treat queen sex pornstar</th>\n",
              "      <td>1</td>\n",
              "    </tr>\n",
              "  </tbody>\n",
              "</table>\n",
              "<p>2167597 rows × 1 columns</p>\n",
              "</div>"
            ],
            "text/plain": [
              "                                                    0\n",
              "thanks gonna dc anytime soon love see way way long  1\n",
              "meet someone special youll know heart beat rapi...  1\n",
              "theyve decided fun dont                             1\n",
              "tired played lazer tag ran lot ughh going sleep...  1\n",
              "words complete stranger made birthday even better   1\n",
              "...                                                ..\n",
              "u didnt give                                        1\n",
              "whats good see success got poppin yo area           1\n",
              "consumers visual want data finger tips mobile w...  1\n",
              "rhonj time                                          1\n",
              "key keeping woman happy attention affection tre...  1\n",
              "\n",
              "[2167597 rows x 1 columns]"
            ]
          },
          "metadata": {},
          "execution_count": 43
        }
      ]
    },
    {
      "cell_type": "markdown",
      "metadata": {
        "id": "immune-batman"
      },
      "source": [
        "### Frecuencia en noticias"
      ],
      "id": "immune-batman"
    },
=======
  {
   "cell_type": "code",
   "execution_count": 3,
   "id": "a4241957-5f3e-431d-ae73-7005ff14d21a",
   "metadata": {},
   "outputs": [
    {
     "name": "stdout",
     "output_type": "stream",
     "text": [
      "167105338  bytes\n"
     ]
    }
   ],
   "source": [
    "tweets = open(\"en_US.twitter.txt\", encoding=\"utf8\").read()\n",
    "tweetSize = os.stat(\"en_US.twitter.txt\")\n",
    "print(tweetSize.st_size, \" bytes\")"
   ]
  },
  {
   "cell_type": "code",
   "execution_count": 4,
   "id": "89ff2df4-60c9-4d43-bbee-2d11a3c99c1a",
   "metadata": {},
   "outputs": [
>>>>>>> 9bd281b7f73c4673f1c0dfb8cd12e7b37f09e3fc
    {
      "cell_type": "code",
      "metadata": {
        "colab": {
          "base_uri": "https://localhost:8080/",
          "height": 684
        },
        "id": "reserved-antarctica",
        "outputId": "0e93edad-f9d0-4ee2-c6f5-c4ed0ae9208a"
      },
      "source": [
        "frec_dic_news = {}\n",
        "for word in clean_news:\n",
        "    if word in frec_dic_news:\n",
        "        frec_dic_news[word] += 1\n",
        "    else:\n",
        "        frec_dic_news[word] = 1\n",
        "\n",
        "news_frecuency = pd.DataFrame.from_dict(frec_dic_news, orient='index')\n",
        "news_frecuency"
      ],
      "id": "reserved-antarctica",
      "execution_count": null,
      "outputs": [
        {
          "output_type": "execute_result",
          "data": {
            "text/html": [
              "<div>\n",
              "<style scoped>\n",
              "    .dataframe tbody tr th:only-of-type {\n",
              "        vertical-align: middle;\n",
              "    }\n",
              "\n",
              "    .dataframe tbody tr th {\n",
              "        vertical-align: top;\n",
              "    }\n",
              "\n",
              "    .dataframe thead th {\n",
              "        text-align: right;\n",
              "    }\n",
              "</style>\n",
              "<table border=\"1\" class=\"dataframe\">\n",
              "  <thead>\n",
              "    <tr style=\"text-align: right;\">\n",
              "      <th></th>\n",
              "      <th>0</th>\n",
              "    </tr>\n",
              "  </thead>\n",
              "  <tbody>\n",
              "    <tr>\n",
              "      <th>wasnt home alone apparently</th>\n",
              "      <td>1</td>\n",
              "    </tr>\n",
              "    <tr>\n",
              "      <th>st louis plant close would die old age workers making cars since onset mass automotive production 1920s</th>\n",
              "      <td>1</td>\n",
              "    </tr>\n",
              "    <tr>\n",
              "      <th>wsus plans quickly became hot topic local online sites though people applauded plans new biomedical center many deplored potential loss building</th>\n",
              "      <td>1</td>\n",
              "    </tr>\n",
              "    <tr>\n",
              "      <th>alaimo group mount holly contract last fall evaluate suggest improvements trenton water works campaign finance records released week show two employees donated total 4500 political action committee pac partners progress early june partners progress reported gave 10000 direct inkind contributions mayor tony mack two weeks leading victory mayoral runoff election june 15</th>\n",
              "      <td>1</td>\n",
              "    </tr>\n",
              "    <tr>\n",
              "      <th>often difficult predict laws impact legislators think twice carrying bill absolutely necessary issue serious enough merit attention definitely make situation worse</th>\n",
              "      <td>1</td>\n",
              "    </tr>\n",
              "    <tr>\n",
              "      <th>...</th>\n",
              "      <td>...</td>\n",
              "    </tr>\n",
              "    <tr>\n",
              "      <th>serve taste spring chop fresh vegetables olives cheeses grilled chicken set selection salad dressings let guests assemble chopped salads numbered jars hold dressings style 5 anthropologie see anthropologiecom stores</th>\n",
              "      <td>1</td>\n",
              "    </tr>\n",
              "    <tr>\n",
              "      <th>complaint alleges kuvan adil piromari 42 us driving school el cajon served gobetween applicants state employees one answered phone office</th>\n",
              "      <td>1</td>\n",
              "    </tr>\n",
              "    <tr>\n",
              "      <th>mood six months chill ice crystals northeast ohio ground soft fragrant seemingly overnight things growing tropics producing fruit earth sweet corn mightily fragrant herbs deep green tender broccoli</th>\n",
              "      <td>1</td>\n",
              "    </tr>\n",
              "    <tr>\n",
              "      <th>starts sunday chivas goats arent great team beat one 10 win salt lake rio tinto also one player rival roger espinoza best guy mls one talks doesnt play new york la pacific northwest goalkeeper dan kennedy tough points</th>\n",
              "      <td>1</td>\n",
              "    </tr>\n",
              "    <tr>\n",
              "      <th>outwardly religious adornment billboardsized banner image lady charity patron saint cuba hanging side national library</th>\n",
              "      <td>1</td>\n",
              "    </tr>\n",
              "  </tbody>\n",
              "</table>\n",
              "<p>1002429 rows × 1 columns</p>\n",
              "</div>"
            ],
            "text/plain": [
              "                                                    0\n",
              "wasnt home alone apparently                         1\n",
              "st louis plant close would die old age workers ...  1\n",
              "wsus plans quickly became hot topic local onlin...  1\n",
              "alaimo group mount holly contract last fall eva...  1\n",
              "often difficult predict laws impact legislators...  1\n",
              "...                                                ..\n",
              "serve taste spring chop fresh vegetables olives...  1\n",
              "complaint alleges kuvan adil piromari 42 us dri...  1\n",
              "mood six months chill ice crystals northeast oh...  1\n",
              "starts sunday chivas goats arent great team bea...  1\n",
              "outwardly religious adornment billboardsized ba...  1\n",
              "\n",
              "[1002429 rows x 1 columns]"
            ]
          },
          "metadata": {},
          "execution_count": 44
        }
      ]
    },
    {
      "cell_type": "markdown",
      "metadata": {
        "id": "broke-feelings"
      },
      "source": [
        "### Frecuencia en blogs"
      ],
      "id": "broke-feelings"
    },
    {
      "cell_type": "code",
      "metadata": {
        "id": "hawaiian-wales",
        "colab": {
          "base_uri": "https://localhost:8080/",
          "height": 424
        },
        "outputId": "6e362cc7-7033-444e-abc4-a70c2c2d66a0"
      },
      "source": [
        "frec_dic_blogs = {}\n",
        "for word in blogs:\n",
        "    if word in frec_dic_blogs:\n",
        "        frec_dic_blogs[word] += 1\n",
        "    else:\n",
        "        frec_dic_blogs[word] = 1\n",
        "\n",
        "blogs_frecuency = pd.DataFrame.from_dict(frec_dic_blogs, orient='index')\n",
        "blogs_frecuency"
      ],
      "id": "hawaiian-wales",
      "execution_count": 49,
      "outputs": [
        {
          "output_type": "execute_result",
          "data": {
            "text/html": [
              "<div>\n",
              "<style scoped>\n",
              "    .dataframe tbody tr th:only-of-type {\n",
              "        vertical-align: middle;\n",
              "    }\n",
              "\n",
              "    .dataframe tbody tr th {\n",
              "        vertical-align: top;\n",
              "    }\n",
              "\n",
              "    .dataframe thead th {\n",
              "        text-align: right;\n",
              "    }\n",
              "</style>\n",
              "<table border=\"1\" class=\"dataframe\">\n",
              "  <thead>\n",
              "    <tr style=\"text-align: right;\">\n",
              "      <th></th>\n",
              "      <th>0</th>\n",
              "    </tr>\n",
              "  </thead>\n",
              "  <tbody>\n",
              "    <tr>\n",
              "      <th>I</th>\n",
              "      <td>1202409</td>\n",
              "    </tr>\n",
              "    <tr>\n",
              "      <th>n</th>\n",
              "      <td>10929097</td>\n",
              "    </tr>\n",
              "    <tr>\n",
              "      <th></th>\n",
              "      <td>36434843</td>\n",
              "    </tr>\n",
              "    <tr>\n",
              "      <th>t</th>\n",
              "      <td>14530583</td>\n",
              "    </tr>\n",
              "    <tr>\n",
              "      <th>h</th>\n",
              "      <td>8211003</td>\n",
              "    </tr>\n",
              "    <tr>\n",
              "      <th>...</th>\n",
              "      <td>...</td>\n",
              "    </tr>\n",
              "    <tr>\n",
              "      <th>V</th>\n",
              "      <td>56111</td>\n",
              "    </tr>\n",
              "    <tr>\n",
              "      <th>D</th>\n",
              "      <td>194553</td>\n",
              "    </tr>\n",
              "    <tr>\n",
              "      <th>8</th>\n",
              "      <td>49127</td>\n",
              "    </tr>\n",
              "    <tr>\n",
              "      <th>Z</th>\n",
              "      <td>11695</td>\n",
              "    </tr>\n",
              "    <tr>\n",
              "      <th>Q</th>\n",
              "      <td>11845</td>\n",
              "    </tr>\n",
              "  </tbody>\n",
              "</table>\n",
              "<p>64 rows × 1 columns</p>\n",
              "</div>"
            ],
            "text/plain": [
              "           0\n",
              "I    1202409\n",
              "n   10929097\n",
              "    36434843\n",
              "t   14530583\n",
              "h    8211003\n",
              "..       ...\n",
              "V      56111\n",
              "D     194553\n",
              "8      49127\n",
              "Z      11695\n",
              "Q      11845\n",
              "\n",
              "[64 rows x 1 columns]"
            ]
          },
          "metadata": {},
          "execution_count": 49
        }
      ]
    },
    {
      "cell_type": "code",
      "metadata": {
        "id": "SpH-45CoabEQ"
      },
      "source": [
        ""
      ],
      "id": "SpH-45CoabEQ",
      "execution_count": null,
      "outputs": []
    }
<<<<<<< HEAD
  ]
}
=======
   ],
   "source": [
    "news = open(\"en_US.news.txt\", encoding=\"utf8\").read()\n",
    "newSize = os.stat(\"en_US.news.txt\")\n",
    "print(newSize.st_size, \" bytes\")"
   ]
  },
  {
   "cell_type": "code",
   "execution_count": 19,
   "id": "94ecd37e",
   "metadata": {},
   "outputs": [],
   "source": [
    "#Eliminar url\n",
    "blog = [re.sub('\\w+:\\/{2}[\\d\\w-]+(\\.[\\d\\w-]+)*(?:(?:\\/[^\\s/]*))*','',i) for i in blog]\n",
    "blog = [re.sub(r'^https?:\\/\\/.*[\\r\\n]*', '', i) for i in blog]\n",
    "\n",
    "news = [re.sub('\\w+:\\/{2}[\\d\\w-]+(\\.[\\d\\w-]+)*(?:(?:\\/[^\\s/]*))*','',i) for i in news]\n",
    "news = [re.sub(r'^https?:\\/\\/.*[\\r\\n]*', '', i) for i in news]\n",
    "\n",
    "tweets = [re.sub('\\w+:\\/{2}[\\d\\w-]+(\\.[\\d\\w-]+)*(?:(?:\\/[^\\s/]*))*','',i) for i in tweets]\n",
    "tweets = [re.sub(r'^https?:\\/\\/.*[\\r\\n]*', '', i) for i in tweets]\n",
    "\n",
    "### Se hace la eliminación de caracteres especiales, numeros y emojis\n",
    "tweets = [re.sub('[^a-zA-Z0-9 _]+','', i) for i in tweets]\n",
    "news = [re.sub('[^a-zA-Z0-9 _]+', '', i) for i in news]\n",
    "blog = [re.sub('[^a-zA-Z0-9 _]+', '', i) for i in blog]"
   ]
  },
  {
   "cell_type": "code",
   "execution_count": 20,
   "id": "alike-faculty",
   "metadata": {},
   "outputs": [],
   "source": [
    "tweets_ = ''\n",
    "news_ = ''\n",
    "blog_ = ''\n",
    "\n",
    "for i in tweets:\n",
    "    tweets_ += i\n",
    "    \n",
    "for i in news:\n",
    "    news_ += i\n",
    "    \n",
    "for i in blog:\n",
    "    blog_ += i"
   ]
  },
  {
   "cell_type": "code",
   "execution_count": 21,
   "id": "imposed-flood",
   "metadata": {},
   "outputs": [],
   "source": [
    "tweets_ = tweets_.lower()\n",
    "news_ = news_.lower()\n",
    "blog_ = blog_.lower()\n",
    "\n",
    "tweets_array = tweets_.split(\" \")\n",
    "news_array = news_.split(\" \")\n",
    "blog_array = blog_.split(\" \")"
   ]
  },
  {
   "cell_type": "markdown",
   "id": "polished-maine",
   "metadata": {},
   "source": [
    "### Frecuencia en tweets"
   ]
  },
  {
   "cell_type": "code",
   "execution_count": 22,
   "id": "concerned-debate",
   "metadata": {},
   "outputs": [
    {
     "data": {
      "text/html": [
       "<div>\n",
       "<style scoped>\n",
       "    .dataframe tbody tr th:only-of-type {\n",
       "        vertical-align: middle;\n",
       "    }\n",
       "\n",
       "    .dataframe tbody tr th {\n",
       "        vertical-align: top;\n",
       "    }\n",
       "\n",
       "    .dataframe thead th {\n",
       "        text-align: right;\n",
       "    }\n",
       "</style>\n",
       "<table border=\"1\" class=\"dataframe\">\n",
       "  <thead>\n",
       "    <tr style=\"text-align: right;\">\n",
       "      <th></th>\n",
       "      <th>0</th>\n",
       "    </tr>\n",
       "  </thead>\n",
       "  <tbody>\n",
       "    <tr>\n",
       "      <th>how</th>\n",
       "      <td>61181</td>\n",
       "    </tr>\n",
       "    <tr>\n",
       "      <th>are</th>\n",
       "      <td>149133</td>\n",
       "    </tr>\n",
       "    <tr>\n",
       "      <th>you</th>\n",
       "      <td>472056</td>\n",
       "    </tr>\n",
       "    <tr>\n",
       "      <th>btw</th>\n",
       "      <td>1821</td>\n",
       "    </tr>\n",
       "    <tr>\n",
       "      <th>thanks</th>\n",
       "      <td>36247</td>\n",
       "    </tr>\n",
       "    <tr>\n",
       "      <th>...</th>\n",
       "      <td>...</td>\n",
       "    </tr>\n",
       "    <tr>\n",
       "      <th>bailjumper</th>\n",
       "      <td>1</td>\n",
       "    </tr>\n",
       "    <tr>\n",
       "      <th>fartedlets</th>\n",
       "      <td>1</td>\n",
       "    </tr>\n",
       "    <tr>\n",
       "      <th>outstandingwhats</th>\n",
       "      <td>1</td>\n",
       "    </tr>\n",
       "    <tr>\n",
       "      <th>misunderstandinghaha</th>\n",
       "      <td>1</td>\n",
       "    </tr>\n",
       "    <tr>\n",
       "      <th>247u</th>\n",
       "      <td>1</td>\n",
       "    </tr>\n",
       "  </tbody>\n",
       "</table>\n",
       "<p>1537897 rows × 1 columns</p>\n",
       "</div>"
      ],
      "text/plain": [
       "                           0\n",
       "how                    61181\n",
       "are                   149133\n",
       "you                   472056\n",
       "btw                     1821\n",
       "thanks                 36247\n",
       "...                      ...\n",
       "bailjumper                 1\n",
       "fartedlets                 1\n",
       "outstandingwhats           1\n",
       "misunderstandinghaha       1\n",
       "247u                       1\n",
       "\n",
       "[1537897 rows x 1 columns]"
      ]
     },
     "execution_count": 22,
     "metadata": {},
     "output_type": "execute_result"
    }
   ],
   "source": [
    "frec_dic_tweets = {}\n",
    "for word in tweets_array:\n",
    "    if word in frec_dic_tweets:\n",
    "        frec_dic_tweets[word] += 1\n",
    "    else:\n",
    "        frec_dic_tweets[word] = 1\n",
    "\n",
    "tweets_frecuency = pd.DataFrame.from_dict(frec_dic_tweets, orient='index')\n",
    "tweets_frecuency"
   ]
  },
  {
   "cell_type": "markdown",
   "id": "immune-batman",
   "metadata": {},
   "source": [
    "### Frecuencia en noticias"
   ]
  },
  {
   "cell_type": "code",
   "execution_count": 23,
   "id": "reserved-antarctica",
   "metadata": {},
   "outputs": [
    {
     "data": {
      "text/html": [
       "<div>\n",
       "<style scoped>\n",
       "    .dataframe tbody tr th:only-of-type {\n",
       "        vertical-align: middle;\n",
       "    }\n",
       "\n",
       "    .dataframe tbody tr th {\n",
       "        vertical-align: top;\n",
       "    }\n",
       "\n",
       "    .dataframe thead th {\n",
       "        text-align: right;\n",
       "    }\n",
       "</style>\n",
       "<table border=\"1\" class=\"dataframe\">\n",
       "  <thead>\n",
       "    <tr style=\"text-align: right;\">\n",
       "      <th></th>\n",
       "      <th>0</th>\n",
       "    </tr>\n",
       "  </thead>\n",
       "  <tbody>\n",
       "    <tr>\n",
       "      <th>he</th>\n",
       "      <td>213387</td>\n",
       "    </tr>\n",
       "    <tr>\n",
       "      <th>wasnt</th>\n",
       "      <td>8715</td>\n",
       "    </tr>\n",
       "    <tr>\n",
       "      <th>home</th>\n",
       "      <td>27091</td>\n",
       "    </tr>\n",
       "    <tr>\n",
       "      <th>alone</th>\n",
       "      <td>2523</td>\n",
       "    </tr>\n",
       "    <tr>\n",
       "      <th>apparentlythe</th>\n",
       "      <td>2</td>\n",
       "    </tr>\n",
       "    <tr>\n",
       "      <th>...</th>\n",
       "      <td>...</td>\n",
       "    </tr>\n",
       "    <tr>\n",
       "      <th>pejaver</th>\n",
       "      <td>1</td>\n",
       "    </tr>\n",
       "    <tr>\n",
       "      <th>muslimswell</th>\n",
       "      <td>1</td>\n",
       "    </tr>\n",
       "    <tr>\n",
       "      <th>performedserve</th>\n",
       "      <td>1</td>\n",
       "    </tr>\n",
       "    <tr>\n",
       "      <th>piromari</th>\n",
       "      <td>1</td>\n",
       "    </tr>\n",
       "    <tr>\n",
       "      <th>broccolithat</th>\n",
       "      <td>1</td>\n",
       "    </tr>\n",
       "  </tbody>\n",
       "</table>\n",
       "<p>998537 rows × 1 columns</p>\n",
       "</div>"
      ],
      "text/plain": [
       "                     0\n",
       "he              213387\n",
       "wasnt             8715\n",
       "home             27091\n",
       "alone             2523\n",
       "apparentlythe        2\n",
       "...                ...\n",
       "pejaver              1\n",
       "muslimswell          1\n",
       "performedserve       1\n",
       "piromari             1\n",
       "broccolithat         1\n",
       "\n",
       "[998537 rows x 1 columns]"
      ]
     },
     "execution_count": 23,
     "metadata": {},
     "output_type": "execute_result"
    }
   ],
   "source": [
    "frec_dic_news = {}\n",
    "for word in news_array:\n",
    "    if word in frec_dic_news:\n",
    "        frec_dic_news[word] += 1\n",
    "    else:\n",
    "        frec_dic_news[word] = 1\n",
    "\n",
    "news_frecuency = pd.DataFrame.from_dict(frec_dic_news, orient='index')\n",
    "news_frecuency"
   ]
  },
  {
   "cell_type": "markdown",
   "id": "broke-feelings",
   "metadata": {},
   "source": [
    "### Frecuencia en blogs"
   ]
  },
  {
   "cell_type": "code",
   "execution_count": 24,
   "id": "responsible-attention",
   "metadata": {},
   "outputs": [
    {
     "data": {
      "text/html": [
       "<div>\n",
       "<style scoped>\n",
       "    .dataframe tbody tr th:only-of-type {\n",
       "        vertical-align: middle;\n",
       "    }\n",
       "\n",
       "    .dataframe tbody tr th {\n",
       "        vertical-align: top;\n",
       "    }\n",
       "\n",
       "    .dataframe thead th {\n",
       "        text-align: right;\n",
       "    }\n",
       "</style>\n",
       "<table border=\"1\" class=\"dataframe\">\n",
       "  <thead>\n",
       "    <tr style=\"text-align: right;\">\n",
       "      <th></th>\n",
       "      <th>0</th>\n",
       "    </tr>\n",
       "  </thead>\n",
       "  <tbody>\n",
       "    <tr>\n",
       "      <th>in</th>\n",
       "      <td>575651</td>\n",
       "    </tr>\n",
       "    <tr>\n",
       "      <th>the</th>\n",
       "      <td>1794547</td>\n",
       "    </tr>\n",
       "    <tr>\n",
       "      <th>years</th>\n",
       "      <td>32994</td>\n",
       "    </tr>\n",
       "    <tr>\n",
       "      <th>thereafter</th>\n",
       "      <td>196</td>\n",
       "    </tr>\n",
       "    <tr>\n",
       "      <th>most</th>\n",
       "      <td>38401</td>\n",
       "    </tr>\n",
       "    <tr>\n",
       "      <th>...</th>\n",
       "      <td>...</td>\n",
       "    </tr>\n",
       "    <tr>\n",
       "      <th>dashkov</th>\n",
       "      <td>1</td>\n",
       "    </tr>\n",
       "    <tr>\n",
       "      <th>reviewshes</th>\n",
       "      <td>1</td>\n",
       "    </tr>\n",
       "    <tr>\n",
       "      <th>weekendplus</th>\n",
       "      <td>1</td>\n",
       "    </tr>\n",
       "    <tr>\n",
       "      <th>great5</th>\n",
       "      <td>1</td>\n",
       "    </tr>\n",
       "    <tr>\n",
       "      <th>sustainablein</th>\n",
       "      <td>1</td>\n",
       "    </tr>\n",
       "  </tbody>\n",
       "</table>\n",
       "<p>950373 rows × 1 columns</p>\n",
       "</div>"
      ],
      "text/plain": [
       "                     0\n",
       "in              575651\n",
       "the            1794547\n",
       "years            32994\n",
       "thereafter         196\n",
       "most             38401\n",
       "...                ...\n",
       "dashkov              1\n",
       "reviewshes           1\n",
       "weekendplus          1\n",
       "great5               1\n",
       "sustainablein        1\n",
       "\n",
       "[950373 rows x 1 columns]"
      ]
     },
     "execution_count": 24,
     "metadata": {},
     "output_type": "execute_result"
    }
   ],
   "source": [
    "frec_dic_blogs = {}\n",
    "for word in blog_array:\n",
    "    if word in frec_dic_blogs:\n",
    "        frec_dic_blogs[word] += 1\n",
    "    else:\n",
    "        frec_dic_blogs[word] = 1\n",
    "\n",
    "blogs_frecuency = pd.DataFrame.from_dict(frec_dic_blogs, orient='index')\n",
    "blogs_frecuency"
   ]
  },
  {
   "cell_type": "code",
   "execution_count": null,
   "id": "hawaiian-wales",
   "metadata": {},
   "outputs": [],
   "source": []
  },
  {
   "cell_type": "code",
   "execution_count": null,
   "id": "ancient-locking",
   "metadata": {},
   "outputs": [],
   "source": []
  }
 ],
 "metadata": {
  "kernelspec": {
   "display_name": "Python 3",
   "language": "python",
   "name": "python3"
  },
  "language_info": {
   "codemirror_mode": {
    "name": "ipython",
    "version": 3
   },
   "file_extension": ".py",
   "mimetype": "text/x-python",
   "name": "python",
   "nbconvert_exporter": "python",
   "pygments_lexer": "ipython3",
   "version": "3.9.6"
  }
 },
 "nbformat": 4,
 "nbformat_minor": 5
}
>>>>>>> 9bd281b7f73c4673f1c0dfb8cd12e7b37f09e3fc
