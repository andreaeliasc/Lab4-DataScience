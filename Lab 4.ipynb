{
 "cells": [
  {
   "cell_type": "code",
   "execution_count": 1,
   "id": "70d909af",
   "metadata": {},
   "outputs": [],
   "source": [
    "import pandas as pd\n",
    "import numpy as np\n",
    "import os\n",
    "import re"
   ]
  },
  {
   "cell_type": "code",
   "execution_count": 2,
   "id": "10cb205e-84cc-4650-a076-9cca12fe0632",
   "metadata": {},
   "outputs": [
    {
     "name": "stdout",
     "output_type": "stream",
     "text": [
      "210160014  bytes\n"
     ]
    }
   ],
   "source": [
    "blog = open(\"en_US.blogs.txt\", encoding=\"utf8\").read()\n",
    "blogSize = os.stat(\"en_US.blogs.txt\")\n",
    "print(blogSize.st_size, \" bytes\")"
   ]
  },
  {
   "cell_type": "code",
   "execution_count": 3,
   "id": "a4241957-5f3e-431d-ae73-7005ff14d21a",
   "metadata": {},
   "outputs": [
    {
     "name": "stdout",
     "output_type": "stream",
     "text": [
      "167105338  bytes\n"
     ]
    }
   ],
   "source": [
    "tweets = open(\"en_US.twitter.txt\", encoding=\"utf8\").read()\n",
    "tweetSize = os.stat(\"en_US.twitter.txt\")\n",
    "print(tweetSize.st_size, \" bytes\")"
   ]
  },
  {
   "cell_type": "code",
   "execution_count": 4,
   "id": "89ff2df4-60c9-4d43-bbee-2d11a3c99c1a",
   "metadata": {},
   "outputs": [
    {
     "name": "stdout",
     "output_type": "stream",
     "text": [
      "205811889  bytes\n"
     ]
    }
   ],
   "source": [
    "news = open(\"en_US.news.txt\", encoding=\"utf8\").read()\n",
    "newSize = os.stat(\"en_US.news.txt\")\n",
    "print(newSize.st_size, \" bytes\")"
   ]
  },
  {
   "cell_type": "code",
   "execution_count": 19,
   "id": "94ecd37e",
   "metadata": {},
   "outputs": [],
   "source": [
    "#Eliminar url\n",
    "blog = [re.sub('\\w+:\\/{2}[\\d\\w-]+(\\.[\\d\\w-]+)*(?:(?:\\/[^\\s/]*))*','',i) for i in blog]\n",
    "blog = [re.sub(r'^https?:\\/\\/.*[\\r\\n]*', '', i) for i in blog]\n",
    "\n",
    "news = [re.sub('\\w+:\\/{2}[\\d\\w-]+(\\.[\\d\\w-]+)*(?:(?:\\/[^\\s/]*))*','',i) for i in news]\n",
    "news = [re.sub(r'^https?:\\/\\/.*[\\r\\n]*', '', i) for i in news]\n",
    "\n",
    "tweets = [re.sub('\\w+:\\/{2}[\\d\\w-]+(\\.[\\d\\w-]+)*(?:(?:\\/[^\\s/]*))*','',i) for i in tweets]\n",
    "tweets = [re.sub(r'^https?:\\/\\/.*[\\r\\n]*', '', i) for i in tweets]\n",
    "\n",
    "### Se hace la eliminación de caracteres especiales, numeros y emojis\n",
    "tweets = [re.sub('[^a-zA-Z0-9 _]+','', i) for i in tweets]\n",
    "news = [re.sub('[^a-zA-Z0-9 _]+', '', i) for i in news]\n",
    "blog = [re.sub('[^a-zA-Z0-9 _]+', '', i) for i in blog]"
   ]
  },
  {
   "cell_type": "code",
   "execution_count": 20,
   "id": "alike-faculty",
   "metadata": {},
   "outputs": [],
   "source": [
    "tweets_ = ''\n",
    "news_ = ''\n",
    "blog_ = ''\n",
    "\n",
    "for i in tweets:\n",
    "    tweets_ += i\n",
    "    \n",
    "for i in news:\n",
    "    news_ += i\n",
    "    \n",
    "for i in blog:\n",
    "    blog_ += i"
   ]
  },
  {
   "cell_type": "code",
   "execution_count": 21,
   "id": "imposed-flood",
   "metadata": {},
   "outputs": [],
   "source": [
    "tweets_ = tweets_.lower()\n",
    "news_ = news_.lower()\n",
    "blog_ = blog_.lower()\n",
    "\n",
    "tweets_array = tweets_.split(\" \")\n",
    "news_array = news_.split(\" \")\n",
    "blog_array = blog_.split(\" \")"
   ]
  },
  {
   "cell_type": "markdown",
   "id": "polished-maine",
   "metadata": {},
   "source": [
    "### Frecuencia en tweets"
   ]
  },
  {
   "cell_type": "code",
   "execution_count": 22,
   "id": "concerned-debate",
   "metadata": {},
   "outputs": [
    {
     "data": {
      "text/html": [
       "<div>\n",
       "<style scoped>\n",
       "    .dataframe tbody tr th:only-of-type {\n",
       "        vertical-align: middle;\n",
       "    }\n",
       "\n",
       "    .dataframe tbody tr th {\n",
       "        vertical-align: top;\n",
       "    }\n",
       "\n",
       "    .dataframe thead th {\n",
       "        text-align: right;\n",
       "    }\n",
       "</style>\n",
       "<table border=\"1\" class=\"dataframe\">\n",
       "  <thead>\n",
       "    <tr style=\"text-align: right;\">\n",
       "      <th></th>\n",
       "      <th>0</th>\n",
       "    </tr>\n",
       "  </thead>\n",
       "  <tbody>\n",
       "    <tr>\n",
       "      <th>how</th>\n",
       "      <td>61181</td>\n",
       "    </tr>\n",
       "    <tr>\n",
       "      <th>are</th>\n",
       "      <td>149133</td>\n",
       "    </tr>\n",
       "    <tr>\n",
       "      <th>you</th>\n",
       "      <td>472056</td>\n",
       "    </tr>\n",
       "    <tr>\n",
       "      <th>btw</th>\n",
       "      <td>1821</td>\n",
       "    </tr>\n",
       "    <tr>\n",
       "      <th>thanks</th>\n",
       "      <td>36247</td>\n",
       "    </tr>\n",
       "    <tr>\n",
       "      <th>...</th>\n",
       "      <td>...</td>\n",
       "    </tr>\n",
       "    <tr>\n",
       "      <th>bailjumper</th>\n",
       "      <td>1</td>\n",
       "    </tr>\n",
       "    <tr>\n",
       "      <th>fartedlets</th>\n",
       "      <td>1</td>\n",
       "    </tr>\n",
       "    <tr>\n",
       "      <th>outstandingwhats</th>\n",
       "      <td>1</td>\n",
       "    </tr>\n",
       "    <tr>\n",
       "      <th>misunderstandinghaha</th>\n",
       "      <td>1</td>\n",
       "    </tr>\n",
       "    <tr>\n",
       "      <th>247u</th>\n",
       "      <td>1</td>\n",
       "    </tr>\n",
       "  </tbody>\n",
       "</table>\n",
       "<p>1537897 rows × 1 columns</p>\n",
       "</div>"
      ],
      "text/plain": [
       "                           0\n",
       "how                    61181\n",
       "are                   149133\n",
       "you                   472056\n",
       "btw                     1821\n",
       "thanks                 36247\n",
       "...                      ...\n",
       "bailjumper                 1\n",
       "fartedlets                 1\n",
       "outstandingwhats           1\n",
       "misunderstandinghaha       1\n",
       "247u                       1\n",
       "\n",
       "[1537897 rows x 1 columns]"
      ]
     },
     "execution_count": 22,
     "metadata": {},
     "output_type": "execute_result"
    }
   ],
   "source": [
    "frec_dic_tweets = {}\n",
    "for word in tweets_array:\n",
    "    if word in frec_dic_tweets:\n",
    "        frec_dic_tweets[word] += 1\n",
    "    else:\n",
    "        frec_dic_tweets[word] = 1\n",
    "\n",
    "tweets_frecuency = pd.DataFrame.from_dict(frec_dic_tweets, orient='index')\n",
    "tweets_frecuency"
   ]
  },
  {
   "cell_type": "markdown",
   "id": "immune-batman",
   "metadata": {},
   "source": [
    "### Frecuencia en noticias"
   ]
  },
  {
   "cell_type": "code",
   "execution_count": 23,
   "id": "reserved-antarctica",
   "metadata": {},
   "outputs": [
    {
     "data": {
      "text/html": [
       "<div>\n",
       "<style scoped>\n",
       "    .dataframe tbody tr th:only-of-type {\n",
       "        vertical-align: middle;\n",
       "    }\n",
       "\n",
       "    .dataframe tbody tr th {\n",
       "        vertical-align: top;\n",
       "    }\n",
       "\n",
       "    .dataframe thead th {\n",
       "        text-align: right;\n",
       "    }\n",
       "</style>\n",
       "<table border=\"1\" class=\"dataframe\">\n",
       "  <thead>\n",
       "    <tr style=\"text-align: right;\">\n",
       "      <th></th>\n",
       "      <th>0</th>\n",
       "    </tr>\n",
       "  </thead>\n",
       "  <tbody>\n",
       "    <tr>\n",
       "      <th>he</th>\n",
       "      <td>213387</td>\n",
       "    </tr>\n",
       "    <tr>\n",
       "      <th>wasnt</th>\n",
       "      <td>8715</td>\n",
       "    </tr>\n",
       "    <tr>\n",
       "      <th>home</th>\n",
       "      <td>27091</td>\n",
       "    </tr>\n",
       "    <tr>\n",
       "      <th>alone</th>\n",
       "      <td>2523</td>\n",
       "    </tr>\n",
       "    <tr>\n",
       "      <th>apparentlythe</th>\n",
       "      <td>2</td>\n",
       "    </tr>\n",
       "    <tr>\n",
       "      <th>...</th>\n",
       "      <td>...</td>\n",
       "    </tr>\n",
       "    <tr>\n",
       "      <th>pejaver</th>\n",
       "      <td>1</td>\n",
       "    </tr>\n",
       "    <tr>\n",
       "      <th>muslimswell</th>\n",
       "      <td>1</td>\n",
       "    </tr>\n",
       "    <tr>\n",
       "      <th>performedserve</th>\n",
       "      <td>1</td>\n",
       "    </tr>\n",
       "    <tr>\n",
       "      <th>piromari</th>\n",
       "      <td>1</td>\n",
       "    </tr>\n",
       "    <tr>\n",
       "      <th>broccolithat</th>\n",
       "      <td>1</td>\n",
       "    </tr>\n",
       "  </tbody>\n",
       "</table>\n",
       "<p>998537 rows × 1 columns</p>\n",
       "</div>"
      ],
      "text/plain": [
       "                     0\n",
       "he              213387\n",
       "wasnt             8715\n",
       "home             27091\n",
       "alone             2523\n",
       "apparentlythe        2\n",
       "...                ...\n",
       "pejaver              1\n",
       "muslimswell          1\n",
       "performedserve       1\n",
       "piromari             1\n",
       "broccolithat         1\n",
       "\n",
       "[998537 rows x 1 columns]"
      ]
     },
     "execution_count": 23,
     "metadata": {},
     "output_type": "execute_result"
    }
   ],
   "source": [
    "frec_dic_news = {}\n",
    "for word in news_array:\n",
    "    if word in frec_dic_news:\n",
    "        frec_dic_news[word] += 1\n",
    "    else:\n",
    "        frec_dic_news[word] = 1\n",
    "\n",
    "news_frecuency = pd.DataFrame.from_dict(frec_dic_news, orient='index')\n",
    "news_frecuency"
   ]
  },
  {
   "cell_type": "markdown",
   "id": "broke-feelings",
   "metadata": {},
   "source": [
    "### Frecuencia en blogs"
   ]
  },
  {
   "cell_type": "code",
   "execution_count": 24,
   "id": "responsible-attention",
   "metadata": {},
   "outputs": [
    {
     "data": {
      "text/html": [
       "<div>\n",
       "<style scoped>\n",
       "    .dataframe tbody tr th:only-of-type {\n",
       "        vertical-align: middle;\n",
       "    }\n",
       "\n",
       "    .dataframe tbody tr th {\n",
       "        vertical-align: top;\n",
       "    }\n",
       "\n",
       "    .dataframe thead th {\n",
       "        text-align: right;\n",
       "    }\n",
       "</style>\n",
       "<table border=\"1\" class=\"dataframe\">\n",
       "  <thead>\n",
       "    <tr style=\"text-align: right;\">\n",
       "      <th></th>\n",
       "      <th>0</th>\n",
       "    </tr>\n",
       "  </thead>\n",
       "  <tbody>\n",
       "    <tr>\n",
       "      <th>in</th>\n",
       "      <td>575651</td>\n",
       "    </tr>\n",
       "    <tr>\n",
       "      <th>the</th>\n",
       "      <td>1794547</td>\n",
       "    </tr>\n",
       "    <tr>\n",
       "      <th>years</th>\n",
       "      <td>32994</td>\n",
       "    </tr>\n",
       "    <tr>\n",
       "      <th>thereafter</th>\n",
       "      <td>196</td>\n",
       "    </tr>\n",
       "    <tr>\n",
       "      <th>most</th>\n",
       "      <td>38401</td>\n",
       "    </tr>\n",
       "    <tr>\n",
       "      <th>...</th>\n",
       "      <td>...</td>\n",
       "    </tr>\n",
       "    <tr>\n",
       "      <th>dashkov</th>\n",
       "      <td>1</td>\n",
       "    </tr>\n",
       "    <tr>\n",
       "      <th>reviewshes</th>\n",
       "      <td>1</td>\n",
       "    </tr>\n",
       "    <tr>\n",
       "      <th>weekendplus</th>\n",
       "      <td>1</td>\n",
       "    </tr>\n",
       "    <tr>\n",
       "      <th>great5</th>\n",
       "      <td>1</td>\n",
       "    </tr>\n",
       "    <tr>\n",
       "      <th>sustainablein</th>\n",
       "      <td>1</td>\n",
       "    </tr>\n",
       "  </tbody>\n",
       "</table>\n",
       "<p>950373 rows × 1 columns</p>\n",
       "</div>"
      ],
      "text/plain": [
       "                     0\n",
       "in              575651\n",
       "the            1794547\n",
       "years            32994\n",
       "thereafter         196\n",
       "most             38401\n",
       "...                ...\n",
       "dashkov              1\n",
       "reviewshes           1\n",
       "weekendplus          1\n",
       "great5               1\n",
       "sustainablein        1\n",
       "\n",
       "[950373 rows x 1 columns]"
      ]
     },
     "execution_count": 24,
     "metadata": {},
     "output_type": "execute_result"
    }
   ],
   "source": [
    "frec_dic_blogs = {}\n",
    "for word in blog_array:\n",
    "    if word in frec_dic_blogs:\n",
    "        frec_dic_blogs[word] += 1\n",
    "    else:\n",
    "        frec_dic_blogs[word] = 1\n",
    "\n",
    "blogs_frecuency = pd.DataFrame.from_dict(frec_dic_blogs, orient='index')\n",
    "blogs_frecuency"
   ]
  },
  {
   "cell_type": "code",
   "execution_count": null,
   "id": "hawaiian-wales",
   "metadata": {},
   "outputs": [],
   "source": []
  },
  {
   "cell_type": "code",
   "execution_count": null,
   "id": "ancient-locking",
   "metadata": {},
   "outputs": [],
   "source": []
  }
 ],
 "metadata": {
  "kernelspec": {
   "display_name": "Python 3",
   "language": "python",
   "name": "python3"
  },
  "language_info": {
   "codemirror_mode": {
    "name": "ipython",
    "version": 3
   },
   "file_extension": ".py",
   "mimetype": "text/x-python",
   "name": "python",
   "nbconvert_exporter": "python",
   "pygments_lexer": "ipython3",
   "version": "3.9.6"
  }
 },
 "nbformat": 4,
 "nbformat_minor": 5
}
